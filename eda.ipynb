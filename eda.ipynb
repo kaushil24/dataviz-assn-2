{
 "cells": [
  {
   "cell_type": "code",
   "execution_count": 5,
   "metadata": {},
   "outputs": [],
   "source": [
    "import pandas as pd\n",
    "from plotly.subplots import make_subplots\n",
    "import plotly.graph_objects as go\n",
    "import plotly.express as px\n",
    "import fivecentplots as fcp\n",
    "import janitor\n",
    "import typing"
   ]
  },
  {
   "cell_type": "code",
   "execution_count": 6,
   "metadata": {},
   "outputs": [
    {
     "data": {
      "text/html": [
       "<div>\n",
       "<style scoped>\n",
       "    .dataframe tbody tr th:only-of-type {\n",
       "        vertical-align: middle;\n",
       "    }\n",
       "\n",
       "    .dataframe tbody tr th {\n",
       "        vertical-align: top;\n",
       "    }\n",
       "\n",
       "    .dataframe thead th {\n",
       "        text-align: right;\n",
       "    }\n",
       "</style>\n",
       "<table border=\"1\" class=\"dataframe\">\n",
       "  <thead>\n",
       "    <tr style=\"text-align: right;\">\n",
       "      <th></th>\n",
       "      <th>Date</th>\n",
       "      <th>Building</th>\n",
       "      <th>Waste Type</th>\n",
       "      <th>Substream</th>\n",
       "      <th>Disposed In</th>\n",
       "      <th>Volume</th>\n",
       "      <th>Weight</th>\n",
       "      <th>Notes</th>\n",
       "    </tr>\n",
       "  </thead>\n",
       "  <tbody>\n",
       "    <tr>\n",
       "      <th>0</th>\n",
       "      <td>5/15/18</td>\n",
       "      <td>Facilities</td>\n",
       "      <td>Recycling</td>\n",
       "      <td>Paper</td>\n",
       "      <td>Recycling</td>\n",
       "      <td>1.00</td>\n",
       "      <td>15.8</td>\n",
       "      <td>NaN</td>\n",
       "    </tr>\n",
       "    <tr>\n",
       "      <th>1</th>\n",
       "      <td>5/15/18</td>\n",
       "      <td>Facilities</td>\n",
       "      <td>Recycling</td>\n",
       "      <td>Cardboard</td>\n",
       "      <td>Recycling</td>\n",
       "      <td>1.00</td>\n",
       "      <td>5.5</td>\n",
       "      <td>NaN</td>\n",
       "    </tr>\n",
       "    <tr>\n",
       "      <th>2</th>\n",
       "      <td>5/15/18</td>\n",
       "      <td>Facilities</td>\n",
       "      <td>Recycling</td>\n",
       "      <td>Cardboard</td>\n",
       "      <td>Recycling</td>\n",
       "      <td>1.00</td>\n",
       "      <td>8.6</td>\n",
       "      <td>NaN</td>\n",
       "    </tr>\n",
       "    <tr>\n",
       "      <th>3</th>\n",
       "      <td>5/15/18</td>\n",
       "      <td>Facilities</td>\n",
       "      <td>Recycling</td>\n",
       "      <td>Paper</td>\n",
       "      <td>Recycling</td>\n",
       "      <td>0.66</td>\n",
       "      <td>6.5</td>\n",
       "      <td>NaN</td>\n",
       "    </tr>\n",
       "    <tr>\n",
       "      <th>4</th>\n",
       "      <td>5/15/18</td>\n",
       "      <td>Facilities</td>\n",
       "      <td>Landfill</td>\n",
       "      <td>Other landfill</td>\n",
       "      <td>Recycling</td>\n",
       "      <td>0.10</td>\n",
       "      <td>1.2</td>\n",
       "      <td>coffee cups</td>\n",
       "    </tr>\n",
       "    <tr>\n",
       "      <th>...</th>\n",
       "      <td>...</td>\n",
       "      <td>...</td>\n",
       "      <td>...</td>\n",
       "      <td>...</td>\n",
       "      <td>...</td>\n",
       "      <td>...</td>\n",
       "      <td>...</td>\n",
       "      <td>...</td>\n",
       "    </tr>\n",
       "    <tr>\n",
       "      <th>516</th>\n",
       "      <td>3/14/23</td>\n",
       "      <td>Swig</td>\n",
       "      <td>Recycling</td>\n",
       "      <td>Plastic 1-7</td>\n",
       "      <td>Landfill</td>\n",
       "      <td>1.00</td>\n",
       "      <td>6.4</td>\n",
       "      <td>plastic bottles; plastic food containers</td>\n",
       "    </tr>\n",
       "    <tr>\n",
       "      <th>517</th>\n",
       "      <td>3/14/23</td>\n",
       "      <td>Swig</td>\n",
       "      <td>Recycling</td>\n",
       "      <td>Plastic 1-7</td>\n",
       "      <td>Landfill</td>\n",
       "      <td>1.00</td>\n",
       "      <td>4.9</td>\n",
       "      <td>bottles</td>\n",
       "    </tr>\n",
       "    <tr>\n",
       "      <th>518</th>\n",
       "      <td>3/14/23</td>\n",
       "      <td>Swig</td>\n",
       "      <td>Reusables</td>\n",
       "      <td>Reusables</td>\n",
       "      <td>Landfill</td>\n",
       "      <td>0.25</td>\n",
       "      <td>4.9</td>\n",
       "      <td>clothing</td>\n",
       "    </tr>\n",
       "    <tr>\n",
       "      <th>519</th>\n",
       "      <td>3/14/23</td>\n",
       "      <td>Swig</td>\n",
       "      <td>Landfill</td>\n",
       "      <td>Styrofoam</td>\n",
       "      <td>Landfill</td>\n",
       "      <td>0.00</td>\n",
       "      <td>0.0</td>\n",
       "      <td>5 pieces of styrofoam</td>\n",
       "    </tr>\n",
       "    <tr>\n",
       "      <th>520</th>\n",
       "      <td>3/14/23</td>\n",
       "      <td>Swig</td>\n",
       "      <td>Recycling</td>\n",
       "      <td>Terracycle</td>\n",
       "      <td>Landfill</td>\n",
       "      <td>0.00</td>\n",
       "      <td>0.0</td>\n",
       "      <td>1 britta filter</td>\n",
       "    </tr>\n",
       "  </tbody>\n",
       "</table>\n",
       "<p>521 rows × 8 columns</p>\n",
       "</div>"
      ],
      "text/plain": [
       "        Date    Building Waste Type       Substream Disposed In  Volume   \n",
       "0    5/15/18  Facilities  Recycling           Paper   Recycling    1.00  \\\n",
       "1    5/15/18  Facilities  Recycling       Cardboard   Recycling    1.00   \n",
       "2    5/15/18  Facilities  Recycling       Cardboard   Recycling    1.00   \n",
       "3    5/15/18  Facilities  Recycling           Paper   Recycling    0.66   \n",
       "4    5/15/18  Facilities   Landfill  Other landfill   Recycling    0.10   \n",
       "..       ...         ...        ...             ...         ...     ...   \n",
       "516  3/14/23        Swig  Recycling     Plastic 1-7    Landfill    1.00   \n",
       "517  3/14/23        Swig  Recycling     Plastic 1-7    Landfill    1.00   \n",
       "518  3/14/23        Swig  Reusables       Reusables    Landfill    0.25   \n",
       "519  3/14/23        Swig   Landfill       Styrofoam    Landfill    0.00   \n",
       "520  3/14/23        Swig  Recycling      Terracycle    Landfill    0.00   \n",
       "\n",
       "     Weight                                     Notes  \n",
       "0      15.8                                       NaN  \n",
       "1       5.5                                       NaN  \n",
       "2       8.6                                       NaN  \n",
       "3       6.5                                       NaN  \n",
       "4       1.2                               coffee cups  \n",
       "..      ...                                       ...  \n",
       "516     6.4  plastic bottles; plastic food containers  \n",
       "517     4.9                                   bottles  \n",
       "518     4.9                                  clothing  \n",
       "519     0.0                     5 pieces of styrofoam  \n",
       "520     0.0                           1 britta filter  \n",
       "\n",
       "[521 rows x 8 columns]"
      ]
     },
     "execution_count": 6,
     "metadata": {},
     "output_type": "execute_result"
    }
   ],
   "source": [
    "df = pd.read_csv(\"assign2_wastedata.csv\")\n",
    "\n",
    "DATE='Date'\n",
    "BUILDING='Building'\n",
    "WASTE_TYPE='Waste Type'\n",
    "SUBSTREAM='Substream'\n",
    "DISPOSED_IN='Disposed In'\n",
    "VOL='Volume'\n",
    "WEIGHT='Weight'\n",
    "NOTES='Notes'\n",
    "\n",
    "CLR_REC_BLD='#451AFF'\n",
    "CLR_LFILL_BLD='#828282'\n",
    "CLR_CMP_BLD='#00B600'\n",
    "CLR_REU_BLD='#ffa500'\n",
    "CLR_REU_MIL='#ffe148'\n",
    "CLR_REC_MIL='#4A62FF'\n",
    "CLR_LFILL_MIL='#AFAFAF'\n",
    "CLR_CMP_MIL='#7AE288'\n",
    "\n",
    "clr_map_bld = {\n",
    "    'Recycling': CLR_REC_BLD,\n",
    "    'Reusables': CLR_REU_BLD,\n",
    "    'Compost': CLR_CMP_BLD,\n",
    "    'Landfill': CLR_LFILL_BLD\n",
    "}\n",
    "\n",
    "clr_map_mld = {\n",
    "    'Recycling': CLR_REC_MIL,\n",
    "    'Reusables': CLR_REU_MIL,\n",
    "    'Compost': CLR_CMP_MIL,\n",
    "    'Landfill': CLR_LFILL_MIL\n",
    "}\n",
    "\n",
    "## ----- Pre-processing and cleaning steps --------\n",
    "\n",
    "# --- Separating Stream into Waste Type and Disposed In\n",
    "def split_stream(stream: str):\n",
    "    resp = stream.split(\" in \")\n",
    "    if len(resp) == 1:\n",
    "        return resp[0].strip(), resp[0].strip()\n",
    "    return resp[0].strip(), resp[1].strip()\n",
    "\n",
    "df = df.join(pd.DataFrame(df['Stream'].apply(split_stream).tolist(), columns=[\"Waste Type\", \"Disposed In\"])).drop('Stream', axis=1)\n",
    "df = df[[DATE, BUILDING, WASTE_TYPE, SUBSTREAM, DISPOSED_IN,  VOL, WEIGHT, NOTES]]\n",
    "\n",
    "#  --- Renaming WasteType==Food Waste to Compost. ---\n",
    "# Since Waste_typw==Food Waste has a miniscule amount (only has 8.1 pounds of total data, i.e. 0.2%)\n",
    "# we're not loosing much information.\n",
    "# it is safe to club as Compost waste.\n",
    "df[WASTE_TYPE] = df[WASTE_TYPE].str.replace('Food Waste', 'Compost', regex=False)\n",
    "\n",
    "\n",
    "# --- Clubbing Substreams where-ever possible ---\n",
    "df['Substream'] = df['Substream'].str.capitalize()\n",
    "# rename str mapper\n",
    "rename_str = {\n",
    "    'Aseptic containers': ['Aseptic/tetra-pak'],\n",
    "    'Electronic & universal waste': ['E-/universal waste'],\n",
    "    'Plastic 1-7': ['Film plastic', 'Plastics #1-7', 'Plastic film'],\n",
    "    'Food/organic waste': ['Food waste (edible)'],\n",
    "    'Metal': ['Metal & aluminum'],\n",
    "    'Paperboard': ['Paperboard rolls'],\n",
    "}\n",
    "\n",
    "for key, val in rename_str.items():\n",
    "    for i in val:\n",
    "        df[SUBSTREAM] = df[SUBSTREAM].str.replace(i, key, regex=False)\n",
    "\n",
    "df"
   ]
  },
  {
   "cell_type": "code",
   "execution_count": 8,
   "metadata": {},
   "outputs": [],
   "source": [
    "def _stylize_words(tempdf, col_name, emoji: bool=False) -> pd.DataFrame:\n",
    "    \"\"\"\n",
    "    Returns df containing stylized colname\n",
    "    \"\"\"\n",
    "    col_name_style = f'{col_name}_style'\n",
    "    tempdf[col_name_style] = tempdf[col_name].copy()\n",
    "    if emoji:\n",
    "        tempdf[col_name_style] = tempdf[col_name_style].str.replace('Compost', f\"<b style='color:{clr_map_bld['Compost']};'>Compost</b> <b>🍃</b>\")\n",
    "        tempdf[col_name_style] = tempdf[col_name_style].str.replace('Landfill', 'Landfill 🕳️')\n",
    "        tempdf[col_name_style] = tempdf[col_name_style].str.replace('Recycling', 'Recycling ♻️')\n",
    "        tempdf[col_name_style] = tempdf[col_name_style].str.replace('Reusable', 'Reusable 🔃')\n",
    "    else:\n",
    "        tempdf[col_name_style] = tempdf[col_name_style].str.replace('Compost', f\"<b style='color:{clr_map_bld['Compost']};'>Compost</b> <b>🍃</b>\")\n",
    "        tempdf[col_name_style] = tempdf[col_name_style].str.replace('Landfill', f\"<b style='color:{clr_map_bld['Landfill']};'>Landfill</b> 🕳️\")\n",
    "        tempdf[col_name_style] = tempdf[col_name_style].str.replace('Recycling', f\"<b style='color:{clr_map_bld['Recycling']};'>Recycling</b> ♼\")\n",
    "        tempdf[col_name_style] = tempdf[col_name_style].str.replace('Reusable', f\"<b style='color:{clr_map_bld['Reusables']};'>Reusables</b> ♲\")\n",
    "\n",
    "    return df, col_name_style"
   ]
  },
  {
   "attachments": {},
   "cell_type": "markdown",
   "metadata": {},
   "source": [
    "## Graphs to plot:\n",
    "- For eacho of the points, you'll have 2 visualizations: one for the total and another one for each building\n",
    "0. A bird's eye view. How each building is doing, how much waste is collected, total volume, weight, timeline etc\n",
    "1. Sunbun graph of wastes and substreams\n",
    "2. How correctly is SCU disposing its waste\n",
    "   - Sub categories can be based on the substream\n",
    "   1. Graph showing misclassified and classified waste types. And how often are they misclassified. \n",
    "   2. This can be by %age and by volume\n",
    "\n",
    "**Experiment idea**\n",
    "- Find the square foot/occupancy of each of the plots. Calculate waste generated per sq unit or per 100 people etc."
   ]
  },
  {
   "attachments": {},
   "cell_type": "markdown",
   "metadata": {},
   "source": [
    "## 0. Bird's eye view"
   ]
  },
  {
   "attachments": {},
   "cell_type": "markdown",
   "metadata": {},
   "source": [
    "## 1. Sunburn of waste and substreams"
   ]
  },
  {
   "cell_type": "code",
   "execution_count": 9,
   "metadata": {},
   "outputs": [
    {
     "data": {
      "application/vnd.plotly.v1+json": {
       "config": {
        "plotlyServerURL": "https://plot.ly"
       },
       "data": [
        {
         "branchvalues": "total",
         "customdata": [
          [
           "Recycling"
          ],
          [
           "Recycling"
          ],
          [
           "Recycling"
          ],
          [
           "Reusables"
          ],
          [
           "Recycling"
          ],
          [
           "Reusables"
          ],
          [
           "Recycling"
          ],
          [
           "Recycling"
          ],
          [
           "Compost"
          ],
          [
           "Compost"
          ],
          [
           "Compost"
          ],
          [
           "Recycling"
          ],
          [
           "Compost"
          ],
          [
           "Compost"
          ],
          [
           "Landfill"
          ],
          [
           "Landfill"
          ],
          [
           "Recycling"
          ],
          [
           "Recycling"
          ],
          [
           "Landfill"
          ],
          [
           "Recycling"
          ],
          [
           "Recycling"
          ],
          [
           "Recycling"
          ],
          [
           "Reusables"
          ],
          [
           "Compost"
          ],
          [
           "Recycling"
          ],
          [
           "Recycling"
          ],
          [
           "Reusables"
          ],
          [
           "Reusables"
          ],
          [
           "Landfill"
          ],
          [
           "Recycling"
          ],
          [
           "Landfill"
          ],
          [
           "Recycling"
          ],
          [
           "Recycling"
          ],
          [
           "Recycling"
          ],
          [
           "Recycling"
          ],
          [
           "(?)"
          ],
          [
           "Compost"
          ],
          [
           "Compost"
          ],
          [
           "Reusables"
          ],
          [
           "Recycling"
          ],
          [
           "Recycling"
          ],
          [
           "Reusables"
          ],
          [
           "Compost"
          ],
          [
           "Recycling"
          ],
          [
           "Compost"
          ],
          [
           "(?)"
          ],
          [
           "Recycling"
          ],
          [
           "Compost"
          ],
          [
           "Recycling"
          ],
          [
           "Landfill"
          ],
          [
           "Recycling"
          ],
          [
           "Compost"
          ],
          [
           "Recycling"
          ],
          [
           "Recycling"
          ],
          [
           "Landfill"
          ],
          [
           "Recycling"
          ],
          [
           "Reusables"
          ],
          [
           "Recycling"
          ],
          [
           "Recycling"
          ],
          [
           "Compost"
          ],
          [
           "Recycling"
          ],
          [
           "Recycling"
          ],
          [
           "Recycling"
          ],
          [
           "Recycling"
          ],
          [
           "Reusables"
          ],
          [
           "Compost"
          ],
          [
           "Recycling"
          ],
          [
           "Compost"
          ],
          [
           "Reusables"
          ],
          [
           "Landfill"
          ],
          [
           "Landfill"
          ],
          [
           "Reusables"
          ],
          [
           "Compost"
          ],
          [
           "Compost"
          ],
          [
           "Recycling"
          ],
          [
           "Landfill"
          ],
          [
           "Landfill"
          ],
          [
           "Reusables"
          ],
          [
           "Landfill"
          ],
          [
           "Recycling"
          ],
          [
           "Recycling"
          ],
          [
           "(?)"
          ],
          [
           "(?)"
          ],
          [
           "(?)"
          ],
          [
           "(?)"
          ],
          [
           "(?)"
          ],
          [
           "Reusables"
          ],
          [
           "Recycling"
          ],
          [
           "Recycling"
          ],
          [
           "Recycling"
          ],
          [
           "Recycling"
          ],
          [
           "Recycling"
          ],
          [
           "Recycling"
          ],
          [
           "Landfill"
          ],
          [
           "Landfill"
          ],
          [
           "Landfill"
          ],
          [
           "Landfill"
          ],
          [
           "Landfill"
          ],
          [
           "Compost"
          ],
          [
           "Compost"
          ],
          [
           "Recycling"
          ],
          [
           "Recycling"
          ],
          [
           "Recycling"
          ],
          [
           "Recycling"
          ],
          [
           "Landfill"
          ],
          [
           "Recycling"
          ],
          [
           "(?)"
          ],
          [
           "Landfill"
          ],
          [
           "Compost"
          ],
          [
           "Compost"
          ],
          [
           "Recycling"
          ],
          [
           "Recycling"
          ],
          [
           "Recycling"
          ],
          [
           "Recycling"
          ],
          [
           "Recycling"
          ],
          [
           "Recycling"
          ],
          [
           "Recycling"
          ],
          [
           "Recycling"
          ],
          [
           "Recycling"
          ],
          [
           "Recycling"
          ],
          [
           "Compost"
          ],
          [
           "Compost"
          ],
          [
           "Recycling"
          ],
          [
           "Recycling"
          ],
          [
           "Recycling"
          ],
          [
           "Recycling"
          ],
          [
           "Recycling"
          ],
          [
           "Compost"
          ],
          [
           "Recycling"
          ],
          [
           "Recycling"
          ],
          [
           "Compost"
          ],
          [
           "Compost"
          ],
          [
           "Compost"
          ],
          [
           "Compost"
          ],
          [
           "Compost"
          ],
          [
           "Recycling"
          ],
          [
           "Compost"
          ],
          [
           "Compost"
          ],
          [
           "Recycling"
          ],
          [
           "Recycling"
          ],
          [
           "Recycling"
          ],
          [
           "Recycling"
          ],
          [
           "Recycling"
          ],
          [
           "Recycling"
          ],
          [
           "Recycling"
          ],
          [
           "Recycling"
          ],
          [
           "Compost"
          ],
          [
           "Recycling"
          ],
          [
           "Compost"
          ],
          [
           "Compost"
          ],
          [
           "Recycling"
          ],
          [
           "Compost"
          ],
          [
           "Compost"
          ],
          [
           "Compost"
          ],
          [
           "Compost"
          ],
          [
           "Recycling"
          ],
          [
           "Recycling"
          ],
          [
           "Recycling"
          ],
          [
           "Landfill"
          ],
          [
           "Landfill"
          ],
          [
           "Landfill"
          ],
          [
           "Landfill"
          ],
          [
           "Landfill"
          ],
          [
           "Landfill"
          ],
          [
           "Compost"
          ],
          [
           "Recycling"
          ],
          [
           "Recycling"
          ],
          [
           "Recycling"
          ],
          [
           "Recycling"
          ],
          [
           "Compost"
          ],
          [
           "Landfill"
          ],
          [
           "Reusables"
          ],
          [
           "Recycling"
          ],
          [
           "Recycling"
          ]
         ],
         "domain": {
          "x": [
           0,
           1
          ],
          "y": [
           0,
           1
          ]
         },
         "hovertemplate": "labels=%{label}<br>Weight=%{value}<br>parent=%{parent}<br>id=%{id}<br>Waste Type=%{customdata[0]}<extra></extra>",
         "ids": [
          "Facilities/Recycling/Metal",
          "Facilities/Recycling/Const/demo waste",
          "Malley/Recycling/Const/demo waste",
          "Graham/Reusables/Reusables",
          "Benson Center/Recycling/Electronic & universal waste",
          "Malley/Reusables/Reusables",
          "Graham/Recycling/Electronic & universal waste",
          "Learning Commons/Recycling/Electronic & universal waste",
          "University Villas/Compost/Misc. meal waste",
          "Swig/Compost/Misc. meal waste",
          "Graham/Compost",
          "Facilities/Recycling/Paper",
          "Learning Commons/Compost",
          "Malley/Compost",
          "University Villas/Landfill",
          "Swig/Landfill",
          "University Villas/Recycling/Paper",
          "Vari Hall and Lucas Hall/Recycling/Metal",
          "Facilities/Landfill",
          "University Villas/Recycling/Glass",
          "Vari Hall and Lucas Hall/Recycling/Glass",
          "University Villas/Recycling/Plastic 1-7",
          "Benson Center/Reusables",
          "Vari Hall and Lucas Hall/Compost/Compostable food containers",
          "Vari Hall and Lucas Hall/Recycling",
          "Learning Commons/Recycling/Metal",
          "Vari Hall and Lucas Hall/Reusables",
          "University Villas/Reusables",
          "Graham/Landfill/Other landfill",
          "Learning Commons/Recycling/Paper",
          "Facilities/Landfill/Reusables",
          "Swig/Recycling/Cardboard",
          "University Villas/Recycling/Cardboard",
          "Malley/Recycling/Paperboard",
          "Vari Hall and Lucas Hall/Recycling/Cardboard",
          "Malley",
          "Benson Center/Compost/Compostable food containers",
          "Facilities/Compost/Compostable food containers",
          "Benson Center/Reusables/Reusables",
          "Malley/Recycling/Paper",
          "Vari Hall and Lucas Hall/Recycling/Plastic 1-7",
          "Graham/Reusables",
          "Learning Commons/Compost/Compostable dining waste (non-edible)",
          "Swig/Recycling/Paperboard",
          "Vari Hall and Lucas Hall/Compost",
          "University Villas",
          "Swig/Recycling/Paper",
          "Graham/Compost/Misc. meal waste",
          "Vari Hall and Lucas Hall/Recycling/Terracycle",
          "Benson Center/Landfill/Other landfill",
          "Learning Commons/Recycling/Non-scu coffee cups",
          "Facilities/Compost",
          "Malley/Recycling/Metal",
          "Malley/Recycling/Terracycle",
          "Facilities/Landfill/Other landfill",
          "Vari Hall and Lucas Hall/Recycling/Electronic & universal waste",
          "Facilities/Reusables",
          "Swig/Recycling/Aseptic containers",
          "University Villas/Recycling/Paperboard",
          "Vari Hall and Lucas Hall/Compost/Food/organic waste",
          "Graham/Recycling/Cardboard",
          "Learning Commons/Recycling/Cardboard",
          "University Villas/Recycling/Electronic & universal waste",
          "Malley/Recycling/Cardboard",
          "Swig/Reusables/Reusables",
          "Vari Hall and Lucas Hall/Compost/Compostable dining waste (non-edible)",
          "Graham/Recycling/Metal",
          "Swig/Compost/Compostable food containers",
          "Malley/Reusables",
          "Learning Commons/Landfill/Styrofoam",
          "Graham/Landfill/Styrofoam",
          "Vari Hall and Lucas Hall/Reusables/Reusables",
          "Learning Commons/Compost/Scu coffee cups",
          "Vari Hall and Lucas Hall/Compost/Scu coffee cups",
          "Learning Commons/Recycling/Scu coffee cups",
          "Benson Center/Landfill/Styrofoam",
          "Facilities/Landfill/Styrofoam",
          "Facilities/Reusables/Reusables",
          "Swig/Landfill/Styrofoam",
          "Benson Center/Recycling/Aseptic containers",
          "Benson Center/Recycling/Terracycle",
          "Swig",
          "Learning Commons",
          "Graham",
          "Facilities",
          "Benson Center",
          "Swig/Reusables",
          "Swig/Recycling",
          "Malley/Recycling",
          "Learning Commons/Recycling",
          "Graham/Recycling",
          "Facilities/Recycling",
          "Benson Center/Recycling",
          "Vari Hall and Lucas Hall/Landfill",
          "Malley/Landfill",
          "Learning Commons/Landfill",
          "Graham/Landfill",
          "Benson Center/Landfill",
          "University Villas/Compost",
          "Swig/Compost",
          "University Villas/Recycling/Terracycle",
          "Swig/Recycling/Terracycle",
          "Learning Commons/Recycling/Terracycle",
          "Graham/Recycling/Terracycle",
          "Vari Hall and Lucas Hall/Landfill/Styrofoam",
          "Swig/Recycling/Plastic 1-7",
          "Vari Hall and Lucas Hall",
          "Swig/Landfill/Misc. landfill",
          "Facilities/Compost/Misc. meal waste",
          "Benson Center/Compost/Misc. meal waste",
          "Learning Commons/Recycling/Plastic 1-7",
          "University Villas/Recycling/Metal",
          "University Villas/Recycling/Aseptic containers",
          "Benson Center/Recycling/Metal",
          "Swig/Recycling/Glass",
          "Malley/Recycling/Glass",
          "Learning Commons/Recycling/Glass",
          "Graham/Recycling/Glass",
          "Facilities/Recycling/Glass",
          "Benson Center/Recycling/Glass",
          "Malley/Compost/Misc. meal waste",
          "Swig/Compost/Food/organic waste",
          "Vari Hall and Lucas Hall/Recycling/Aseptic containers",
          "Malley/Recycling/Electronic & universal waste",
          "Facilities/Recycling/Electronic & universal waste",
          "Vari Hall and Lucas Hall/Recycling/Const/demo waste",
          "Learning Commons/Recycling/Const/demo waste",
          "Swig/Compost/Bpi certified compostable to-go ware",
          "Benson Center/Recycling/Const/demo waste",
          "Learning Commons/Recycling/Compostable food containers",
          "University Villas/Compost/Compostable food containers",
          "Malley/Compost/Compostable food containers",
          "Learning Commons/Compost/Compostable food containers",
          "Graham/Compost/Compostable food containers",
          "Learning Commons/Compost/Food/organic waste",
          "Facilities/Recycling/Cardboard",
          "Vari Hall and Lucas Hall/Compost/Misc. meal waste",
          "Swig/Compost/Napkins/paper towels",
          "Graham/Recycling/Plastic 1-7",
          "Facilities/Recycling/Plastic 1-7",
          "Benson Center/Recycling/Plastic 1-7",
          "Vari Hall and Lucas Hall/Recycling/Paperboard",
          "Graham/Recycling/Paperboard",
          "Facilities/Recycling/Paperboard",
          "Benson Center/Recycling/Paperboard",
          "Benson Center/Recycling/Paper towels",
          "Vari Hall and Lucas Hall/Compost/Paper towels",
          "Graham/Recycling/Aseptic containers",
          "University Villas/Compost/Paper towels",
          "Swig/Compost/Paper towels",
          "Malley/Recycling/Aseptic containers",
          "Malley/Compost/Paper towels",
          "Graham/Compost/Paper towels",
          "Facilities/Compost/Paper towels",
          "Benson Center/Compost/Paper towels",
          "Graham/Recycling/Paper",
          "Benson Center/Recycling/Paper",
          "Learning Commons/Recycling/Aseptic containers",
          "University Villas/Landfill/Other landfill",
          "Swig/Landfill/Other landfill",
          "Malley/Landfill/Other landfill",
          "Learning Commons/Landfill/Other landfill",
          "Vari Hall and Lucas Hall/Landfill/Non-scu coffee cups",
          "Learning Commons/Landfill/Non-scu coffee cups",
          "Learning Commons/Compost/Paper towels",
          "Benson Center/Recycling/Cardboard",
          "Malley/Recycling/Plastic 1-7",
          "Swig/Recycling/Electronic & universal waste",
          "Swig/Recycling/Metal",
          "Benson Center/Compost",
          "Vari Hall and Lucas Hall/Landfill/Other landfill",
          "University Villas/Reusables/Reusables",
          "University Villas/Recycling",
          "Vari Hall and Lucas Hall/Recycling/Paper"
         ],
         "labels": [
          "Metal",
          "Const/demo waste",
          "Const/demo waste",
          "Reusables",
          "Electronic & universal waste",
          "Reusables",
          "Electronic & universal waste",
          "Electronic & universal waste",
          "Misc. meal waste",
          "Misc. meal waste",
          "Compost",
          "Paper",
          "Compost",
          "Compost",
          "Landfill",
          "Landfill",
          "Paper",
          "Metal",
          "Landfill",
          "Glass",
          "Glass",
          "Plastic 1-7",
          "Reusables",
          "Compostable food containers",
          "Recycling",
          "Metal",
          "Reusables",
          "Reusables",
          "Other landfill",
          "Paper",
          "Reusables",
          "Cardboard",
          "Cardboard",
          "Paperboard",
          "Cardboard",
          "Malley",
          "Compostable food containers",
          "Compostable food containers",
          "Reusables",
          "Paper",
          "Plastic 1-7",
          "Reusables",
          "Compostable dining waste (non-edible)",
          "Paperboard",
          "Compost",
          "University Villas",
          "Paper",
          "Misc. meal waste",
          "Terracycle",
          "Other landfill",
          "Non-scu coffee cups",
          "Compost",
          "Metal",
          "Terracycle",
          "Other landfill",
          "Electronic & universal waste",
          "Reusables",
          "Aseptic containers",
          "Paperboard",
          "Food/organic waste",
          "Cardboard",
          "Cardboard",
          "Electronic & universal waste",
          "Cardboard",
          "Reusables",
          "Compostable dining waste (non-edible)",
          "Metal",
          "Compostable food containers",
          "Reusables",
          "Styrofoam",
          "Styrofoam",
          "Reusables",
          "Scu coffee cups",
          "Scu coffee cups",
          "Scu coffee cups",
          "Styrofoam",
          "Styrofoam",
          "Reusables",
          "Styrofoam",
          "Aseptic containers",
          "Terracycle",
          "Swig",
          "Learning Commons",
          "Graham",
          "Facilities",
          "Benson Center",
          "Reusables",
          "Recycling",
          "Recycling",
          "Recycling",
          "Recycling",
          "Recycling",
          "Recycling",
          "Landfill",
          "Landfill",
          "Landfill",
          "Landfill",
          "Landfill",
          "Compost",
          "Compost",
          "Terracycle",
          "Terracycle",
          "Terracycle",
          "Terracycle",
          "Styrofoam",
          "Plastic 1-7",
          "Vari Hall and Lucas Hall",
          "Misc. landfill",
          "Misc. meal waste",
          "Misc. meal waste",
          "Plastic 1-7",
          "Metal",
          "Aseptic containers",
          "Metal",
          "Glass",
          "Glass",
          "Glass",
          "Glass",
          "Glass",
          "Glass",
          "Misc. meal waste",
          "Food/organic waste",
          "Aseptic containers",
          "Electronic & universal waste",
          "Electronic & universal waste",
          "Const/demo waste",
          "Const/demo waste",
          "Bpi certified compostable to-go ware",
          "Const/demo waste",
          "Compostable food containers",
          "Compostable food containers",
          "Compostable food containers",
          "Compostable food containers",
          "Compostable food containers",
          "Food/organic waste",
          "Cardboard",
          "Misc. meal waste",
          "Napkins/paper towels",
          "Plastic 1-7",
          "Plastic 1-7",
          "Plastic 1-7",
          "Paperboard",
          "Paperboard",
          "Paperboard",
          "Paperboard",
          "Paper towels",
          "Paper towels",
          "Aseptic containers",
          "Paper towels",
          "Paper towels",
          "Aseptic containers",
          "Paper towels",
          "Paper towels",
          "Paper towels",
          "Paper towels",
          "Paper",
          "Paper",
          "Aseptic containers",
          "Other landfill",
          "Other landfill",
          "Other landfill",
          "Other landfill",
          "Non-scu coffee cups",
          "Non-scu coffee cups",
          "Paper towels",
          "Cardboard",
          "Plastic 1-7",
          "Electronic & universal waste",
          "Metal",
          "Compost",
          "Other landfill",
          "Reusables",
          "Recycling",
          "Paper"
         ],
         "marker": {
          "colors": [
           "#4A62FF",
           "#4A62FF",
           "#4A62FF",
           "#ffe148",
           "#4A62FF",
           "#ffe148",
           "#4A62FF",
           "#4A62FF",
           "#7AE288",
           "#7AE288",
           "#7AE288",
           "#4A62FF",
           "#7AE288",
           "#7AE288",
           "#AFAFAF",
           "#AFAFAF",
           "#4A62FF",
           "#4A62FF",
           "#AFAFAF",
           "#4A62FF",
           "#4A62FF",
           "#4A62FF",
           "#ffe148",
           "#7AE288",
           "#4A62FF",
           "#4A62FF",
           "#ffe148",
           "#ffe148",
           "#AFAFAF",
           "#4A62FF",
           "#AFAFAF",
           "#4A62FF",
           "#4A62FF",
           "#4A62FF",
           "#4A62FF",
           "#FFA15A",
           "#7AE288",
           "#7AE288",
           "#ffe148",
           "#4A62FF",
           "#4A62FF",
           "#ffe148",
           "#7AE288",
           "#4A62FF",
           "#7AE288",
           "#FFA15A",
           "#4A62FF",
           "#7AE288",
           "#4A62FF",
           "#AFAFAF",
           "#4A62FF",
           "#7AE288",
           "#4A62FF",
           "#4A62FF",
           "#AFAFAF",
           "#4A62FF",
           "#ffe148",
           "#4A62FF",
           "#4A62FF",
           "#7AE288",
           "#4A62FF",
           "#4A62FF",
           "#4A62FF",
           "#4A62FF",
           "#ffe148",
           "#7AE288",
           "#4A62FF",
           "#7AE288",
           "#ffe148",
           "#AFAFAF",
           "#AFAFAF",
           "#ffe148",
           "#7AE288",
           "#7AE288",
           "#4A62FF",
           "#AFAFAF",
           "#AFAFAF",
           "#ffe148",
           "#AFAFAF",
           "#4A62FF",
           "#4A62FF",
           "#FFA15A",
           "#FFA15A",
           "#FFA15A",
           "#FFA15A",
           "#FFA15A",
           "#ffe148",
           "#4A62FF",
           "#4A62FF",
           "#4A62FF",
           "#4A62FF",
           "#4A62FF",
           "#4A62FF",
           "#AFAFAF",
           "#AFAFAF",
           "#AFAFAF",
           "#AFAFAF",
           "#AFAFAF",
           "#7AE288",
           "#7AE288",
           "#4A62FF",
           "#4A62FF",
           "#4A62FF",
           "#4A62FF",
           "#AFAFAF",
           "#4A62FF",
           "#FFA15A",
           "#AFAFAF",
           "#7AE288",
           "#7AE288",
           "#4A62FF",
           "#4A62FF",
           "#4A62FF",
           "#4A62FF",
           "#4A62FF",
           "#4A62FF",
           "#4A62FF",
           "#4A62FF",
           "#4A62FF",
           "#4A62FF",
           "#7AE288",
           "#7AE288",
           "#4A62FF",
           "#4A62FF",
           "#4A62FF",
           "#4A62FF",
           "#4A62FF",
           "#7AE288",
           "#4A62FF",
           "#4A62FF",
           "#7AE288",
           "#7AE288",
           "#7AE288",
           "#7AE288",
           "#7AE288",
           "#4A62FF",
           "#7AE288",
           "#7AE288",
           "#4A62FF",
           "#4A62FF",
           "#4A62FF",
           "#4A62FF",
           "#4A62FF",
           "#4A62FF",
           "#4A62FF",
           "#4A62FF",
           "#7AE288",
           "#4A62FF",
           "#7AE288",
           "#7AE288",
           "#4A62FF",
           "#7AE288",
           "#7AE288",
           "#7AE288",
           "#7AE288",
           "#4A62FF",
           "#4A62FF",
           "#4A62FF",
           "#AFAFAF",
           "#AFAFAF",
           "#AFAFAF",
           "#AFAFAF",
           "#AFAFAF",
           "#AFAFAF",
           "#7AE288",
           "#4A62FF",
           "#4A62FF",
           "#4A62FF",
           "#4A62FF",
           "#7AE288",
           "#AFAFAF",
           "#ffe148",
           "#4A62FF",
           "#4A62FF"
          ]
         },
         "name": "",
         "parents": [
          "Facilities/Recycling",
          "Facilities/Recycling",
          "Malley/Recycling",
          "Graham/Reusables",
          "Benson Center/Recycling",
          "Malley/Reusables",
          "Graham/Recycling",
          "Learning Commons/Recycling",
          "University Villas/Compost",
          "Swig/Compost",
          "Graham",
          "Facilities/Recycling",
          "Learning Commons",
          "Malley",
          "University Villas",
          "Swig",
          "University Villas/Recycling",
          "Vari Hall and Lucas Hall/Recycling",
          "Facilities",
          "University Villas/Recycling",
          "Vari Hall and Lucas Hall/Recycling",
          "University Villas/Recycling",
          "Benson Center",
          "Vari Hall and Lucas Hall/Compost",
          "Vari Hall and Lucas Hall",
          "Learning Commons/Recycling",
          "Vari Hall and Lucas Hall",
          "University Villas",
          "Graham/Landfill",
          "Learning Commons/Recycling",
          "Facilities/Landfill",
          "Swig/Recycling",
          "University Villas/Recycling",
          "Malley/Recycling",
          "Vari Hall and Lucas Hall/Recycling",
          "",
          "Benson Center/Compost",
          "Facilities/Compost",
          "Benson Center/Reusables",
          "Malley/Recycling",
          "Vari Hall and Lucas Hall/Recycling",
          "Graham",
          "Learning Commons/Compost",
          "Swig/Recycling",
          "Vari Hall and Lucas Hall",
          "",
          "Swig/Recycling",
          "Graham/Compost",
          "Vari Hall and Lucas Hall/Recycling",
          "Benson Center/Landfill",
          "Learning Commons/Recycling",
          "Facilities",
          "Malley/Recycling",
          "Malley/Recycling",
          "Facilities/Landfill",
          "Vari Hall and Lucas Hall/Recycling",
          "Facilities",
          "Swig/Recycling",
          "University Villas/Recycling",
          "Vari Hall and Lucas Hall/Compost",
          "Graham/Recycling",
          "Learning Commons/Recycling",
          "University Villas/Recycling",
          "Malley/Recycling",
          "Swig/Reusables",
          "Vari Hall and Lucas Hall/Compost",
          "Graham/Recycling",
          "Swig/Compost",
          "Malley",
          "Learning Commons/Landfill",
          "Graham/Landfill",
          "Vari Hall and Lucas Hall/Reusables",
          "Learning Commons/Compost",
          "Vari Hall and Lucas Hall/Compost",
          "Learning Commons/Recycling",
          "Benson Center/Landfill",
          "Facilities/Landfill",
          "Facilities/Reusables",
          "Swig/Landfill",
          "Benson Center/Recycling",
          "Benson Center/Recycling",
          "",
          "",
          "",
          "",
          "",
          "Swig",
          "Swig",
          "Malley",
          "Learning Commons",
          "Graham",
          "Facilities",
          "Benson Center",
          "Vari Hall and Lucas Hall",
          "Malley",
          "Learning Commons",
          "Graham",
          "Benson Center",
          "University Villas",
          "Swig",
          "University Villas/Recycling",
          "Swig/Recycling",
          "Learning Commons/Recycling",
          "Graham/Recycling",
          "Vari Hall and Lucas Hall/Landfill",
          "Swig/Recycling",
          "",
          "Swig/Landfill",
          "Facilities/Compost",
          "Benson Center/Compost",
          "Learning Commons/Recycling",
          "University Villas/Recycling",
          "University Villas/Recycling",
          "Benson Center/Recycling",
          "Swig/Recycling",
          "Malley/Recycling",
          "Learning Commons/Recycling",
          "Graham/Recycling",
          "Facilities/Recycling",
          "Benson Center/Recycling",
          "Malley/Compost",
          "Swig/Compost",
          "Vari Hall and Lucas Hall/Recycling",
          "Malley/Recycling",
          "Facilities/Recycling",
          "Vari Hall and Lucas Hall/Recycling",
          "Learning Commons/Recycling",
          "Swig/Compost",
          "Benson Center/Recycling",
          "Learning Commons/Recycling",
          "University Villas/Compost",
          "Malley/Compost",
          "Learning Commons/Compost",
          "Graham/Compost",
          "Learning Commons/Compost",
          "Facilities/Recycling",
          "Vari Hall and Lucas Hall/Compost",
          "Swig/Compost",
          "Graham/Recycling",
          "Facilities/Recycling",
          "Benson Center/Recycling",
          "Vari Hall and Lucas Hall/Recycling",
          "Graham/Recycling",
          "Facilities/Recycling",
          "Benson Center/Recycling",
          "Benson Center/Recycling",
          "Vari Hall and Lucas Hall/Compost",
          "Graham/Recycling",
          "University Villas/Compost",
          "Swig/Compost",
          "Malley/Recycling",
          "Malley/Compost",
          "Graham/Compost",
          "Facilities/Compost",
          "Benson Center/Compost",
          "Graham/Recycling",
          "Benson Center/Recycling",
          "Learning Commons/Recycling",
          "University Villas/Landfill",
          "Swig/Landfill",
          "Malley/Landfill",
          "Learning Commons/Landfill",
          "Vari Hall and Lucas Hall/Landfill",
          "Learning Commons/Landfill",
          "Learning Commons/Compost",
          "Benson Center/Recycling",
          "Malley/Recycling",
          "Swig/Recycling",
          "Swig/Recycling",
          "Benson Center",
          "Vari Hall and Lucas Hall/Landfill",
          "University Villas/Reusables",
          "University Villas",
          "Vari Hall and Lucas Hall/Recycling"
         ],
         "type": "treemap",
         "values": [
          12.5,
          10.9,
          8.649999999999999,
          16,
          1.41,
          48.51,
          0.01,
          0.5,
          127.2,
          33.2,
          93.4,
          31.1,
          23.900000000000002,
          222.2,
          19.3,
          62.5,
          15.4,
          3.5,
          30,
          28.1,
          2.4,
          46,
          31.4,
          20.7,
          91.9,
          1.8,
          14.3,
          10.299999999999999,
          28.1,
          14,
          2,
          16.7,
          8.1,
          6.85,
          0.9,
          676.54,
          143.2,
          18.4,
          31.4,
          91.8,
          44.6,
          16,
          3.8000000000000003,
          6.8,
          208.1,
          309.5,
          20.8,
          49.8,
          2.3,
          85.23,
          0.9,
          80.1,
          9.709999999999999,
          8.1,
          26.099999999999998,
          0.5,
          0,
          1,
          1.6,
          50.2,
          12.3,
          4.1,
          0.2,
          80.7,
          7.6000000000000005,
          21,
          3,
          20.5,
          48.51,
          0.1,
          0.01,
          14.3,
          4.9,
          5.4,
          5.7,
          0.5,
          1.9,
          0,
          1.5,
          8.6,
          2.8200000000000003,
          312.85,
          97.5,
          233.43,
          238.6,
          1230.18,
          7.6000000000000005,
          137.75,
          331.92,
          59.4,
          95.92,
          128.5,
          476.45,
          66.1,
          73.91,
          14.2,
          28.11,
          85.73,
          170.3,
          105,
          2.2,
          0.05,
          1.3,
          9.8,
          0.30000000000000004,
          47.9,
          380.4,
          50.2,
          40.400000000000006,
          458.5,
          18.8,
          6.4,
          1.6,
          27.81,
          36.9,
          8.6,
          3.2,
          12.100000000000001,
          17.299999999999997,
          34.2,
          29.900000000000002,
          30.7,
          0.6,
          6.6,
          1.9,
          3.1,
          4.2,
          7.6,
          1.1,
          4.4,
          29.9,
          35.5,
          3.1,
          23.3,
          8.1,
          18.3,
          64.6,
          7.1,
          37.3,
          36.4,
          217.6,
          2.1,
          0.61,
          0.1,
          1.6,
          6.8,
          46.2,
          0.8,
          13.200000000000001,
          5.9,
          7.7,
          156.8,
          20.3,
          21.299999999999997,
          34.9,
          20,
          70.21,
          0.5,
          19.3,
          10.8,
          73.91,
          13.600000000000001,
          4.8,
          0.5,
          4,
          104.3,
          103.21,
          0.4,
          7.199999999999999,
          636.6,
          61,
          10.299999999999999,
          109.6,
          31.9
         ]
        }
       ],
       "layout": {
        "legend": {
         "tracegroupgap": 0
        },
        "margin": {
         "t": 60
        },
        "template": {
         "data": {
          "bar": [
           {
            "error_x": {
             "color": "#2a3f5f"
            },
            "error_y": {
             "color": "#2a3f5f"
            },
            "marker": {
             "line": {
              "color": "#E5ECF6",
              "width": 0.5
             },
             "pattern": {
              "fillmode": "overlay",
              "size": 10,
              "solidity": 0.2
             }
            },
            "type": "bar"
           }
          ],
          "barpolar": [
           {
            "marker": {
             "line": {
              "color": "#E5ECF6",
              "width": 0.5
             },
             "pattern": {
              "fillmode": "overlay",
              "size": 10,
              "solidity": 0.2
             }
            },
            "type": "barpolar"
           }
          ],
          "carpet": [
           {
            "aaxis": {
             "endlinecolor": "#2a3f5f",
             "gridcolor": "white",
             "linecolor": "white",
             "minorgridcolor": "white",
             "startlinecolor": "#2a3f5f"
            },
            "baxis": {
             "endlinecolor": "#2a3f5f",
             "gridcolor": "white",
             "linecolor": "white",
             "minorgridcolor": "white",
             "startlinecolor": "#2a3f5f"
            },
            "type": "carpet"
           }
          ],
          "choropleth": [
           {
            "colorbar": {
             "outlinewidth": 0,
             "ticks": ""
            },
            "type": "choropleth"
           }
          ],
          "contour": [
           {
            "colorbar": {
             "outlinewidth": 0,
             "ticks": ""
            },
            "colorscale": [
             [
              0,
              "#0d0887"
             ],
             [
              0.1111111111111111,
              "#46039f"
             ],
             [
              0.2222222222222222,
              "#7201a8"
             ],
             [
              0.3333333333333333,
              "#9c179e"
             ],
             [
              0.4444444444444444,
              "#bd3786"
             ],
             [
              0.5555555555555556,
              "#d8576b"
             ],
             [
              0.6666666666666666,
              "#ed7953"
             ],
             [
              0.7777777777777778,
              "#fb9f3a"
             ],
             [
              0.8888888888888888,
              "#fdca26"
             ],
             [
              1,
              "#f0f921"
             ]
            ],
            "type": "contour"
           }
          ],
          "contourcarpet": [
           {
            "colorbar": {
             "outlinewidth": 0,
             "ticks": ""
            },
            "type": "contourcarpet"
           }
          ],
          "heatmap": [
           {
            "colorbar": {
             "outlinewidth": 0,
             "ticks": ""
            },
            "colorscale": [
             [
              0,
              "#0d0887"
             ],
             [
              0.1111111111111111,
              "#46039f"
             ],
             [
              0.2222222222222222,
              "#7201a8"
             ],
             [
              0.3333333333333333,
              "#9c179e"
             ],
             [
              0.4444444444444444,
              "#bd3786"
             ],
             [
              0.5555555555555556,
              "#d8576b"
             ],
             [
              0.6666666666666666,
              "#ed7953"
             ],
             [
              0.7777777777777778,
              "#fb9f3a"
             ],
             [
              0.8888888888888888,
              "#fdca26"
             ],
             [
              1,
              "#f0f921"
             ]
            ],
            "type": "heatmap"
           }
          ],
          "heatmapgl": [
           {
            "colorbar": {
             "outlinewidth": 0,
             "ticks": ""
            },
            "colorscale": [
             [
              0,
              "#0d0887"
             ],
             [
              0.1111111111111111,
              "#46039f"
             ],
             [
              0.2222222222222222,
              "#7201a8"
             ],
             [
              0.3333333333333333,
              "#9c179e"
             ],
             [
              0.4444444444444444,
              "#bd3786"
             ],
             [
              0.5555555555555556,
              "#d8576b"
             ],
             [
              0.6666666666666666,
              "#ed7953"
             ],
             [
              0.7777777777777778,
              "#fb9f3a"
             ],
             [
              0.8888888888888888,
              "#fdca26"
             ],
             [
              1,
              "#f0f921"
             ]
            ],
            "type": "heatmapgl"
           }
          ],
          "histogram": [
           {
            "marker": {
             "pattern": {
              "fillmode": "overlay",
              "size": 10,
              "solidity": 0.2
             }
            },
            "type": "histogram"
           }
          ],
          "histogram2d": [
           {
            "colorbar": {
             "outlinewidth": 0,
             "ticks": ""
            },
            "colorscale": [
             [
              0,
              "#0d0887"
             ],
             [
              0.1111111111111111,
              "#46039f"
             ],
             [
              0.2222222222222222,
              "#7201a8"
             ],
             [
              0.3333333333333333,
              "#9c179e"
             ],
             [
              0.4444444444444444,
              "#bd3786"
             ],
             [
              0.5555555555555556,
              "#d8576b"
             ],
             [
              0.6666666666666666,
              "#ed7953"
             ],
             [
              0.7777777777777778,
              "#fb9f3a"
             ],
             [
              0.8888888888888888,
              "#fdca26"
             ],
             [
              1,
              "#f0f921"
             ]
            ],
            "type": "histogram2d"
           }
          ],
          "histogram2dcontour": [
           {
            "colorbar": {
             "outlinewidth": 0,
             "ticks": ""
            },
            "colorscale": [
             [
              0,
              "#0d0887"
             ],
             [
              0.1111111111111111,
              "#46039f"
             ],
             [
              0.2222222222222222,
              "#7201a8"
             ],
             [
              0.3333333333333333,
              "#9c179e"
             ],
             [
              0.4444444444444444,
              "#bd3786"
             ],
             [
              0.5555555555555556,
              "#d8576b"
             ],
             [
              0.6666666666666666,
              "#ed7953"
             ],
             [
              0.7777777777777778,
              "#fb9f3a"
             ],
             [
              0.8888888888888888,
              "#fdca26"
             ],
             [
              1,
              "#f0f921"
             ]
            ],
            "type": "histogram2dcontour"
           }
          ],
          "mesh3d": [
           {
            "colorbar": {
             "outlinewidth": 0,
             "ticks": ""
            },
            "type": "mesh3d"
           }
          ],
          "parcoords": [
           {
            "line": {
             "colorbar": {
              "outlinewidth": 0,
              "ticks": ""
             }
            },
            "type": "parcoords"
           }
          ],
          "pie": [
           {
            "automargin": true,
            "type": "pie"
           }
          ],
          "scatter": [
           {
            "fillpattern": {
             "fillmode": "overlay",
             "size": 10,
             "solidity": 0.2
            },
            "type": "scatter"
           }
          ],
          "scatter3d": [
           {
            "line": {
             "colorbar": {
              "outlinewidth": 0,
              "ticks": ""
             }
            },
            "marker": {
             "colorbar": {
              "outlinewidth": 0,
              "ticks": ""
             }
            },
            "type": "scatter3d"
           }
          ],
          "scattercarpet": [
           {
            "marker": {
             "colorbar": {
              "outlinewidth": 0,
              "ticks": ""
             }
            },
            "type": "scattercarpet"
           }
          ],
          "scattergeo": [
           {
            "marker": {
             "colorbar": {
              "outlinewidth": 0,
              "ticks": ""
             }
            },
            "type": "scattergeo"
           }
          ],
          "scattergl": [
           {
            "marker": {
             "colorbar": {
              "outlinewidth": 0,
              "ticks": ""
             }
            },
            "type": "scattergl"
           }
          ],
          "scattermapbox": [
           {
            "marker": {
             "colorbar": {
              "outlinewidth": 0,
              "ticks": ""
             }
            },
            "type": "scattermapbox"
           }
          ],
          "scatterpolar": [
           {
            "marker": {
             "colorbar": {
              "outlinewidth": 0,
              "ticks": ""
             }
            },
            "type": "scatterpolar"
           }
          ],
          "scatterpolargl": [
           {
            "marker": {
             "colorbar": {
              "outlinewidth": 0,
              "ticks": ""
             }
            },
            "type": "scatterpolargl"
           }
          ],
          "scatterternary": [
           {
            "marker": {
             "colorbar": {
              "outlinewidth": 0,
              "ticks": ""
             }
            },
            "type": "scatterternary"
           }
          ],
          "surface": [
           {
            "colorbar": {
             "outlinewidth": 0,
             "ticks": ""
            },
            "colorscale": [
             [
              0,
              "#0d0887"
             ],
             [
              0.1111111111111111,
              "#46039f"
             ],
             [
              0.2222222222222222,
              "#7201a8"
             ],
             [
              0.3333333333333333,
              "#9c179e"
             ],
             [
              0.4444444444444444,
              "#bd3786"
             ],
             [
              0.5555555555555556,
              "#d8576b"
             ],
             [
              0.6666666666666666,
              "#ed7953"
             ],
             [
              0.7777777777777778,
              "#fb9f3a"
             ],
             [
              0.8888888888888888,
              "#fdca26"
             ],
             [
              1,
              "#f0f921"
             ]
            ],
            "type": "surface"
           }
          ],
          "table": [
           {
            "cells": {
             "fill": {
              "color": "#EBF0F8"
             },
             "line": {
              "color": "white"
             }
            },
            "header": {
             "fill": {
              "color": "#C8D4E3"
             },
             "line": {
              "color": "white"
             }
            },
            "type": "table"
           }
          ]
         },
         "layout": {
          "annotationdefaults": {
           "arrowcolor": "#2a3f5f",
           "arrowhead": 0,
           "arrowwidth": 1
          },
          "autotypenumbers": "strict",
          "coloraxis": {
           "colorbar": {
            "outlinewidth": 0,
            "ticks": ""
           }
          },
          "colorscale": {
           "diverging": [
            [
             0,
             "#8e0152"
            ],
            [
             0.1,
             "#c51b7d"
            ],
            [
             0.2,
             "#de77ae"
            ],
            [
             0.3,
             "#f1b6da"
            ],
            [
             0.4,
             "#fde0ef"
            ],
            [
             0.5,
             "#f7f7f7"
            ],
            [
             0.6,
             "#e6f5d0"
            ],
            [
             0.7,
             "#b8e186"
            ],
            [
             0.8,
             "#7fbc41"
            ],
            [
             0.9,
             "#4d9221"
            ],
            [
             1,
             "#276419"
            ]
           ],
           "sequential": [
            [
             0,
             "#0d0887"
            ],
            [
             0.1111111111111111,
             "#46039f"
            ],
            [
             0.2222222222222222,
             "#7201a8"
            ],
            [
             0.3333333333333333,
             "#9c179e"
            ],
            [
             0.4444444444444444,
             "#bd3786"
            ],
            [
             0.5555555555555556,
             "#d8576b"
            ],
            [
             0.6666666666666666,
             "#ed7953"
            ],
            [
             0.7777777777777778,
             "#fb9f3a"
            ],
            [
             0.8888888888888888,
             "#fdca26"
            ],
            [
             1,
             "#f0f921"
            ]
           ],
           "sequentialminus": [
            [
             0,
             "#0d0887"
            ],
            [
             0.1111111111111111,
             "#46039f"
            ],
            [
             0.2222222222222222,
             "#7201a8"
            ],
            [
             0.3333333333333333,
             "#9c179e"
            ],
            [
             0.4444444444444444,
             "#bd3786"
            ],
            [
             0.5555555555555556,
             "#d8576b"
            ],
            [
             0.6666666666666666,
             "#ed7953"
            ],
            [
             0.7777777777777778,
             "#fb9f3a"
            ],
            [
             0.8888888888888888,
             "#fdca26"
            ],
            [
             1,
             "#f0f921"
            ]
           ]
          },
          "colorway": [
           "#636efa",
           "#EF553B",
           "#00cc96",
           "#ab63fa",
           "#FFA15A",
           "#19d3f3",
           "#FF6692",
           "#B6E880",
           "#FF97FF",
           "#FECB52"
          ],
          "font": {
           "color": "#2a3f5f"
          },
          "geo": {
           "bgcolor": "white",
           "lakecolor": "white",
           "landcolor": "#E5ECF6",
           "showlakes": true,
           "showland": true,
           "subunitcolor": "white"
          },
          "hoverlabel": {
           "align": "left"
          },
          "hovermode": "closest",
          "mapbox": {
           "style": "light"
          },
          "paper_bgcolor": "white",
          "plot_bgcolor": "#E5ECF6",
          "polar": {
           "angularaxis": {
            "gridcolor": "white",
            "linecolor": "white",
            "ticks": ""
           },
           "bgcolor": "#E5ECF6",
           "radialaxis": {
            "gridcolor": "white",
            "linecolor": "white",
            "ticks": ""
           }
          },
          "scene": {
           "xaxis": {
            "backgroundcolor": "#E5ECF6",
            "gridcolor": "white",
            "gridwidth": 2,
            "linecolor": "white",
            "showbackground": true,
            "ticks": "",
            "zerolinecolor": "white"
           },
           "yaxis": {
            "backgroundcolor": "#E5ECF6",
            "gridcolor": "white",
            "gridwidth": 2,
            "linecolor": "white",
            "showbackground": true,
            "ticks": "",
            "zerolinecolor": "white"
           },
           "zaxis": {
            "backgroundcolor": "#E5ECF6",
            "gridcolor": "white",
            "gridwidth": 2,
            "linecolor": "white",
            "showbackground": true,
            "ticks": "",
            "zerolinecolor": "white"
           }
          },
          "shapedefaults": {
           "line": {
            "color": "#2a3f5f"
           }
          },
          "ternary": {
           "aaxis": {
            "gridcolor": "white",
            "linecolor": "white",
            "ticks": ""
           },
           "baxis": {
            "gridcolor": "white",
            "linecolor": "white",
            "ticks": ""
           },
           "bgcolor": "#E5ECF6",
           "caxis": {
            "gridcolor": "white",
            "linecolor": "white",
            "ticks": ""
           }
          },
          "title": {
           "x": 0.05
          },
          "xaxis": {
           "automargin": true,
           "gridcolor": "white",
           "linecolor": "white",
           "ticks": "",
           "title": {
            "standoff": 15
           },
           "zerolinecolor": "white",
           "zerolinewidth": 2
          },
          "yaxis": {
           "automargin": true,
           "gridcolor": "white",
           "linecolor": "white",
           "ticks": "",
           "title": {
            "standoff": 15
           },
           "zerolinecolor": "white",
           "zerolinewidth": 2
          }
         }
        },
        "title": {
         "text": "Waste Characterization of individual building at SCU"
        }
       }
      }
     },
     "metadata": {},
     "output_type": "display_data"
    }
   ],
   "source": [
    "# fig = px.sunburst(df, path=[BUILDING, WASTE_TYPE, SUBSTREAM], values=WEIGHT)\n",
    "fig = px.treemap(df, path=[BUILDING, WASTE_TYPE, SUBSTREAM], values=WEIGHT, color_discrete_map=clr_map_mld, color=WASTE_TYPE)\n",
    "fig.update_layout(title='Waste Characterization of individual building at SCU')\n",
    "fig.show()"
   ]
  },
  {
   "attachments": {},
   "cell_type": "markdown",
   "metadata": {},
   "source": [
    "## 2. How 'Correctly' is SCU disposing its waste"
   ]
  },
  {
   "attachments": {},
   "cell_type": "markdown",
   "metadata": {},
   "source": [
    "### 2: Waste misclassification based on total volume"
   ]
  },
  {
   "attachments": {},
   "cell_type": "markdown",
   "metadata": {},
   "source": [
    "#### **First things first. How much waste is being misclassified?**"
   ]
  },
  {
   "cell_type": "code",
   "execution_count": 10,
   "metadata": {},
   "outputs": [
    {
     "data": {
      "text/plain": [
       "MultiIndex([(  'Compost',  'Bpi certified compostable to-go ware', ...),\n",
       "            (  'Compost', 'Compostable dining waste (non-edible)', ...),\n",
       "            (  'Compost', 'Compostable dining waste (non-edible)', ...),\n",
       "            (  'Compost',           'Compostable food containers', ...),\n",
       "            (  'Compost',           'Compostable food containers', ...),\n",
       "            (  'Compost',                    'Food/organic waste', ...),\n",
       "            (  'Compost',                    'Food/organic waste', ...),\n",
       "            (  'Compost',                      'Misc. meal waste', ...),\n",
       "            (  'Compost',                      'Misc. meal waste', ...),\n",
       "            (  'Compost',                  'Napkins/paper towels', ...),\n",
       "            (  'Compost',                          'Paper towels', ...),\n",
       "            (  'Compost',                          'Paper towels', ...),\n",
       "            (  'Compost',                       'Scu coffee cups', ...),\n",
       "            ( 'Landfill',                        'Other landfill', ...),\n",
       "            ( 'Landfill',                        'Other landfill', ...),\n",
       "            ( 'Landfill',                             'Reusables', ...),\n",
       "            ( 'Landfill',                             'Styrofoam', ...),\n",
       "            ('Recycling',                    'Aseptic containers', ...),\n",
       "            ('Recycling',                    'Aseptic containers', ...),\n",
       "            ('Recycling',                             'Cardboard', ...),\n",
       "            ('Recycling',                             'Cardboard', ...),\n",
       "            ('Recycling',                      'Const/demo waste', ...),\n",
       "            ('Recycling',          'Electronic & universal waste', ...),\n",
       "            ('Recycling',          'Electronic & universal waste', ...),\n",
       "            ('Recycling',                                 'Glass', ...),\n",
       "            ('Recycling',                                 'Glass', ...),\n",
       "            ('Recycling',                                 'Metal', ...),\n",
       "            ('Recycling',                                 'Metal', ...),\n",
       "            ('Recycling',                                 'Paper', ...),\n",
       "            ('Recycling',                                 'Paper', ...),\n",
       "            ('Recycling',                          'Paper towels', ...),\n",
       "            ('Recycling',                            'Paperboard', ...),\n",
       "            ('Recycling',                            'Paperboard', ...),\n",
       "            ('Recycling',                           'Plastic 1-7', ...),\n",
       "            ('Recycling',                           'Plastic 1-7', ...),\n",
       "            ('Recycling',                            'Terracycle', ...),\n",
       "            ('Recycling',                            'Terracycle', ...),\n",
       "            ('Reusables',                             'Reusables', ...),\n",
       "            ('Reusables',                             'Reusables', ...),\n",
       "            ('Reusables',                             'Reusables', ...)],\n",
       "           names=['Waste Type', 'Substream', 'Disposed In'])"
      ]
     },
     "execution_count": 10,
     "metadata": {},
     "output_type": "execute_result"
    }
   ],
   "source": [
    "def get_misclassif_perc(level: str, building: str = None, df: pd.DataFrame = df):\n",
    "    \"\"\"\n",
    "    level: waste_type: columns contain waste_type, weight and %age\n",
    "            substream: contains waste_type, substream, weight and %age\n",
    "            disposed_in: contains waste_type, substream, disposed_in, weight and %page\n",
    "    building: Building \n",
    "    \"\"\"\n",
    "    temp_df = df.loc[:] if not building else df.loc[df[BUILDING]==building, :]\n",
    "    TOTAL_DISCLASSIFIED_WEIGHT = temp_df.loc[temp_df[WASTE_TYPE]!=temp_df[DISPOSED_IN]][WEIGHT].sum()\n",
    "    \n",
    "    if level=='waste_type':\n",
    "        wgt = temp_df.loc[temp_df[WASTE_TYPE]!=temp_df[DISPOSED_IN]].groupby([WASTE_TYPE]).agg({WEIGHT: 'sum'})\n",
    "        wgt['%'] = wgt[WEIGHT] / TOTAL_DISCLASSIFIED_WEIGHT * 100\n",
    "    elif level=='substream':\n",
    "        wgt = temp_df.loc[temp_df[WASTE_TYPE]!=temp_df[DISPOSED_IN]].groupby([WASTE_TYPE, SUBSTREAM]).agg({WEIGHT: 'sum'})#.reset_index()\n",
    "        wgt['%'] = wgt[WEIGHT] / wgt.groupby([WASTE_TYPE])[WEIGHT].transform('sum') * 100\n",
    "    elif level=='disposed_in':\n",
    "        wgt = temp_df.loc[temp_df[WASTE_TYPE]!=temp_df[DISPOSED_IN]].groupby([WASTE_TYPE, SUBSTREAM, DISPOSED_IN]).agg({WEIGHT: 'sum'})\n",
    "        wgt['%'] =  wgt[WEIGHT] / wgt.groupby([WASTE_TYPE, SUBSTREAM])[WEIGHT].transform('sum') * 100\n",
    "    return wgt\n",
    "\n",
    "# op = get_misclassif_perc('substream')\n",
    "op = get_misclassif_perc('disposed_in')\n",
    "op#[WEIGHT]#[:13].sum()\n",
    "op.index.unique()"
   ]
  },
  {
   "cell_type": "code",
   "execution_count": 11,
   "metadata": {},
   "outputs": [
    {
     "data": {
      "text/plain": [
       "['#7AE288: Bpi certified compostable to-go ware',\n",
       " '#7AE288: Compostable dining waste (non-edible)',\n",
       " '#7AE288: Compostable food containers',\n",
       " '#7AE288: Food/organic waste',\n",
       " '#7AE288: Misc. meal waste',\n",
       " '#7AE288: Napkins/paper towels',\n",
       " '#7AE288: Paper towels',\n",
       " '#7AE288: Scu coffee cups']"
      ]
     },
     "execution_count": 11,
     "metadata": {},
     "output_type": "execute_result"
    }
   ],
   "source": [
    "# op.groupby(level=0).apply(lambda op: op.xs(op.name).to_dict()).to_dict()\n",
    "# op.index.get_value\n",
    "tdf1 = op.reset_index()\n",
    "wt_substream_mapper = {wt: tdf1.loc[tdf1[WASTE_TYPE]==wt, :][SUBSTREAM].unique().tolist() for wt in tdf1[WASTE_TYPE].unique()}\n",
    "# wts\n",
    "tmp = list(map(lambda x: f'{clr_map_mld[\"Compost\"]}: {x}', wt_substream_mapper[\"Compost\"]))\n",
    "tmp\n"
   ]
  },
  {
   "cell_type": "code",
   "execution_count": 12,
   "metadata": {},
   "outputs": [
    {
     "data": {
      "application/vnd.plotly.v1+json": {
       "config": {
        "plotlyServerURL": "https://plot.ly"
       },
       "data": [
        {
         "customdata": [
          "Landfill",
          "Recycling",
          "Landfill",
          "Recycling",
          "Recycling",
          "Compost",
          "Landfill",
          "Compost",
          "Landfill",
          "Recycling"
         ],
         "hovertemplate": "<b>Disposed In</b><br><br>%{customdata}: %{x} pound(s)",
         "hovertext": [
          "Landfill",
          "Recycling",
          "Landfill",
          "Recycling",
          "Recycling",
          "Compost",
          "Landfill",
          "Compost",
          "Landfill",
          "Recycling"
         ],
         "marker": {
          "color": [
           "#AFAFAF",
           "#4A62FF",
           "#AFAFAF",
           "#4A62FF",
           "#4A62FF",
           "#7AE288",
           "#AFAFAF",
           "#7AE288",
           "#AFAFAF",
           "#4A62FF"
          ]
         },
         "orientation": "h",
         "type": "bar",
         "x": [
          205.1,
          18.7,
          762.7,
          7,
          2,
          0.8,
          94.4,
          1.21,
          103.1,
          23.799999999999997
         ],
         "y": [
          [
           "Compost",
           "Compost",
           "Compost",
           "Compost",
           "Landfill",
           "Recycling",
           "Recycling",
           "Reusables",
           "Reusables",
           "Reusables"
          ],
          [
           "Paper towels",
           "Paper towels",
           "Misc. meal waste",
           "Misc. meal waste",
           "Reusables",
           "Cardboard",
           "Cardboard",
           "Reusables",
           "Reusables",
           "Reusables"
          ],
          [
           "Landfill",
           "Recycling",
           "Landfill",
           "Recycling",
           "Recycling",
           "Compost",
           "Landfill",
           "Compost",
           "Landfill",
           "Recycling"
          ]
         ]
        }
       ],
       "layout": {
        "template": {
         "data": {
          "bar": [
           {
            "error_x": {
             "color": "#2a3f5f"
            },
            "error_y": {
             "color": "#2a3f5f"
            },
            "marker": {
             "line": {
              "color": "#E5ECF6",
              "width": 0.5
             },
             "pattern": {
              "fillmode": "overlay",
              "size": 10,
              "solidity": 0.2
             }
            },
            "type": "bar"
           }
          ],
          "barpolar": [
           {
            "marker": {
             "line": {
              "color": "#E5ECF6",
              "width": 0.5
             },
             "pattern": {
              "fillmode": "overlay",
              "size": 10,
              "solidity": 0.2
             }
            },
            "type": "barpolar"
           }
          ],
          "carpet": [
           {
            "aaxis": {
             "endlinecolor": "#2a3f5f",
             "gridcolor": "white",
             "linecolor": "white",
             "minorgridcolor": "white",
             "startlinecolor": "#2a3f5f"
            },
            "baxis": {
             "endlinecolor": "#2a3f5f",
             "gridcolor": "white",
             "linecolor": "white",
             "minorgridcolor": "white",
             "startlinecolor": "#2a3f5f"
            },
            "type": "carpet"
           }
          ],
          "choropleth": [
           {
            "colorbar": {
             "outlinewidth": 0,
             "ticks": ""
            },
            "type": "choropleth"
           }
          ],
          "contour": [
           {
            "colorbar": {
             "outlinewidth": 0,
             "ticks": ""
            },
            "colorscale": [
             [
              0,
              "#0d0887"
             ],
             [
              0.1111111111111111,
              "#46039f"
             ],
             [
              0.2222222222222222,
              "#7201a8"
             ],
             [
              0.3333333333333333,
              "#9c179e"
             ],
             [
              0.4444444444444444,
              "#bd3786"
             ],
             [
              0.5555555555555556,
              "#d8576b"
             ],
             [
              0.6666666666666666,
              "#ed7953"
             ],
             [
              0.7777777777777778,
              "#fb9f3a"
             ],
             [
              0.8888888888888888,
              "#fdca26"
             ],
             [
              1,
              "#f0f921"
             ]
            ],
            "type": "contour"
           }
          ],
          "contourcarpet": [
           {
            "colorbar": {
             "outlinewidth": 0,
             "ticks": ""
            },
            "type": "contourcarpet"
           }
          ],
          "heatmap": [
           {
            "colorbar": {
             "outlinewidth": 0,
             "ticks": ""
            },
            "colorscale": [
             [
              0,
              "#0d0887"
             ],
             [
              0.1111111111111111,
              "#46039f"
             ],
             [
              0.2222222222222222,
              "#7201a8"
             ],
             [
              0.3333333333333333,
              "#9c179e"
             ],
             [
              0.4444444444444444,
              "#bd3786"
             ],
             [
              0.5555555555555556,
              "#d8576b"
             ],
             [
              0.6666666666666666,
              "#ed7953"
             ],
             [
              0.7777777777777778,
              "#fb9f3a"
             ],
             [
              0.8888888888888888,
              "#fdca26"
             ],
             [
              1,
              "#f0f921"
             ]
            ],
            "type": "heatmap"
           }
          ],
          "heatmapgl": [
           {
            "colorbar": {
             "outlinewidth": 0,
             "ticks": ""
            },
            "colorscale": [
             [
              0,
              "#0d0887"
             ],
             [
              0.1111111111111111,
              "#46039f"
             ],
             [
              0.2222222222222222,
              "#7201a8"
             ],
             [
              0.3333333333333333,
              "#9c179e"
             ],
             [
              0.4444444444444444,
              "#bd3786"
             ],
             [
              0.5555555555555556,
              "#d8576b"
             ],
             [
              0.6666666666666666,
              "#ed7953"
             ],
             [
              0.7777777777777778,
              "#fb9f3a"
             ],
             [
              0.8888888888888888,
              "#fdca26"
             ],
             [
              1,
              "#f0f921"
             ]
            ],
            "type": "heatmapgl"
           }
          ],
          "histogram": [
           {
            "marker": {
             "pattern": {
              "fillmode": "overlay",
              "size": 10,
              "solidity": 0.2
             }
            },
            "type": "histogram"
           }
          ],
          "histogram2d": [
           {
            "colorbar": {
             "outlinewidth": 0,
             "ticks": ""
            },
            "colorscale": [
             [
              0,
              "#0d0887"
             ],
             [
              0.1111111111111111,
              "#46039f"
             ],
             [
              0.2222222222222222,
              "#7201a8"
             ],
             [
              0.3333333333333333,
              "#9c179e"
             ],
             [
              0.4444444444444444,
              "#bd3786"
             ],
             [
              0.5555555555555556,
              "#d8576b"
             ],
             [
              0.6666666666666666,
              "#ed7953"
             ],
             [
              0.7777777777777778,
              "#fb9f3a"
             ],
             [
              0.8888888888888888,
              "#fdca26"
             ],
             [
              1,
              "#f0f921"
             ]
            ],
            "type": "histogram2d"
           }
          ],
          "histogram2dcontour": [
           {
            "colorbar": {
             "outlinewidth": 0,
             "ticks": ""
            },
            "colorscale": [
             [
              0,
              "#0d0887"
             ],
             [
              0.1111111111111111,
              "#46039f"
             ],
             [
              0.2222222222222222,
              "#7201a8"
             ],
             [
              0.3333333333333333,
              "#9c179e"
             ],
             [
              0.4444444444444444,
              "#bd3786"
             ],
             [
              0.5555555555555556,
              "#d8576b"
             ],
             [
              0.6666666666666666,
              "#ed7953"
             ],
             [
              0.7777777777777778,
              "#fb9f3a"
             ],
             [
              0.8888888888888888,
              "#fdca26"
             ],
             [
              1,
              "#f0f921"
             ]
            ],
            "type": "histogram2dcontour"
           }
          ],
          "mesh3d": [
           {
            "colorbar": {
             "outlinewidth": 0,
             "ticks": ""
            },
            "type": "mesh3d"
           }
          ],
          "parcoords": [
           {
            "line": {
             "colorbar": {
              "outlinewidth": 0,
              "ticks": ""
             }
            },
            "type": "parcoords"
           }
          ],
          "pie": [
           {
            "automargin": true,
            "type": "pie"
           }
          ],
          "scatter": [
           {
            "fillpattern": {
             "fillmode": "overlay",
             "size": 10,
             "solidity": 0.2
            },
            "type": "scatter"
           }
          ],
          "scatter3d": [
           {
            "line": {
             "colorbar": {
              "outlinewidth": 0,
              "ticks": ""
             }
            },
            "marker": {
             "colorbar": {
              "outlinewidth": 0,
              "ticks": ""
             }
            },
            "type": "scatter3d"
           }
          ],
          "scattercarpet": [
           {
            "marker": {
             "colorbar": {
              "outlinewidth": 0,
              "ticks": ""
             }
            },
            "type": "scattercarpet"
           }
          ],
          "scattergeo": [
           {
            "marker": {
             "colorbar": {
              "outlinewidth": 0,
              "ticks": ""
             }
            },
            "type": "scattergeo"
           }
          ],
          "scattergl": [
           {
            "marker": {
             "colorbar": {
              "outlinewidth": 0,
              "ticks": ""
             }
            },
            "type": "scattergl"
           }
          ],
          "scattermapbox": [
           {
            "marker": {
             "colorbar": {
              "outlinewidth": 0,
              "ticks": ""
             }
            },
            "type": "scattermapbox"
           }
          ],
          "scatterpolar": [
           {
            "marker": {
             "colorbar": {
              "outlinewidth": 0,
              "ticks": ""
             }
            },
            "type": "scatterpolar"
           }
          ],
          "scatterpolargl": [
           {
            "marker": {
             "colorbar": {
              "outlinewidth": 0,
              "ticks": ""
             }
            },
            "type": "scatterpolargl"
           }
          ],
          "scatterternary": [
           {
            "marker": {
             "colorbar": {
              "outlinewidth": 0,
              "ticks": ""
             }
            },
            "type": "scatterternary"
           }
          ],
          "surface": [
           {
            "colorbar": {
             "outlinewidth": 0,
             "ticks": ""
            },
            "colorscale": [
             [
              0,
              "#0d0887"
             ],
             [
              0.1111111111111111,
              "#46039f"
             ],
             [
              0.2222222222222222,
              "#7201a8"
             ],
             [
              0.3333333333333333,
              "#9c179e"
             ],
             [
              0.4444444444444444,
              "#bd3786"
             ],
             [
              0.5555555555555556,
              "#d8576b"
             ],
             [
              0.6666666666666666,
              "#ed7953"
             ],
             [
              0.7777777777777778,
              "#fb9f3a"
             ],
             [
              0.8888888888888888,
              "#fdca26"
             ],
             [
              1,
              "#f0f921"
             ]
            ],
            "type": "surface"
           }
          ],
          "table": [
           {
            "cells": {
             "fill": {
              "color": "#EBF0F8"
             },
             "line": {
              "color": "white"
             }
            },
            "header": {
             "fill": {
              "color": "#C8D4E3"
             },
             "line": {
              "color": "white"
             }
            },
            "type": "table"
           }
          ]
         },
         "layout": {
          "annotationdefaults": {
           "arrowcolor": "#2a3f5f",
           "arrowhead": 0,
           "arrowwidth": 1
          },
          "autotypenumbers": "strict",
          "coloraxis": {
           "colorbar": {
            "outlinewidth": 0,
            "ticks": ""
           }
          },
          "colorscale": {
           "diverging": [
            [
             0,
             "#8e0152"
            ],
            [
             0.1,
             "#c51b7d"
            ],
            [
             0.2,
             "#de77ae"
            ],
            [
             0.3,
             "#f1b6da"
            ],
            [
             0.4,
             "#fde0ef"
            ],
            [
             0.5,
             "#f7f7f7"
            ],
            [
             0.6,
             "#e6f5d0"
            ],
            [
             0.7,
             "#b8e186"
            ],
            [
             0.8,
             "#7fbc41"
            ],
            [
             0.9,
             "#4d9221"
            ],
            [
             1,
             "#276419"
            ]
           ],
           "sequential": [
            [
             0,
             "#0d0887"
            ],
            [
             0.1111111111111111,
             "#46039f"
            ],
            [
             0.2222222222222222,
             "#7201a8"
            ],
            [
             0.3333333333333333,
             "#9c179e"
            ],
            [
             0.4444444444444444,
             "#bd3786"
            ],
            [
             0.5555555555555556,
             "#d8576b"
            ],
            [
             0.6666666666666666,
             "#ed7953"
            ],
            [
             0.7777777777777778,
             "#fb9f3a"
            ],
            [
             0.8888888888888888,
             "#fdca26"
            ],
            [
             1,
             "#f0f921"
            ]
           ],
           "sequentialminus": [
            [
             0,
             "#0d0887"
            ],
            [
             0.1111111111111111,
             "#46039f"
            ],
            [
             0.2222222222222222,
             "#7201a8"
            ],
            [
             0.3333333333333333,
             "#9c179e"
            ],
            [
             0.4444444444444444,
             "#bd3786"
            ],
            [
             0.5555555555555556,
             "#d8576b"
            ],
            [
             0.6666666666666666,
             "#ed7953"
            ],
            [
             0.7777777777777778,
             "#fb9f3a"
            ],
            [
             0.8888888888888888,
             "#fdca26"
            ],
            [
             1,
             "#f0f921"
            ]
           ]
          },
          "colorway": [
           "#636efa",
           "#EF553B",
           "#00cc96",
           "#ab63fa",
           "#FFA15A",
           "#19d3f3",
           "#FF6692",
           "#B6E880",
           "#FF97FF",
           "#FECB52"
          ],
          "font": {
           "color": "#2a3f5f"
          },
          "geo": {
           "bgcolor": "white",
           "lakecolor": "white",
           "landcolor": "#E5ECF6",
           "showlakes": true,
           "showland": true,
           "subunitcolor": "white"
          },
          "hoverlabel": {
           "align": "left"
          },
          "hovermode": "closest",
          "mapbox": {
           "style": "light"
          },
          "paper_bgcolor": "white",
          "plot_bgcolor": "#E5ECF6",
          "polar": {
           "angularaxis": {
            "gridcolor": "white",
            "linecolor": "white",
            "ticks": ""
           },
           "bgcolor": "#E5ECF6",
           "radialaxis": {
            "gridcolor": "white",
            "linecolor": "white",
            "ticks": ""
           }
          },
          "scene": {
           "xaxis": {
            "backgroundcolor": "#E5ECF6",
            "gridcolor": "white",
            "gridwidth": 2,
            "linecolor": "white",
            "showbackground": true,
            "ticks": "",
            "zerolinecolor": "white"
           },
           "yaxis": {
            "backgroundcolor": "#E5ECF6",
            "gridcolor": "white",
            "gridwidth": 2,
            "linecolor": "white",
            "showbackground": true,
            "ticks": "",
            "zerolinecolor": "white"
           },
           "zaxis": {
            "backgroundcolor": "#E5ECF6",
            "gridcolor": "white",
            "gridwidth": 2,
            "linecolor": "white",
            "showbackground": true,
            "ticks": "",
            "zerolinecolor": "white"
           }
          },
          "shapedefaults": {
           "line": {
            "color": "#2a3f5f"
           }
          },
          "ternary": {
           "aaxis": {
            "gridcolor": "white",
            "linecolor": "white",
            "ticks": ""
           },
           "baxis": {
            "gridcolor": "white",
            "linecolor": "white",
            "ticks": ""
           },
           "bgcolor": "#E5ECF6",
           "caxis": {
            "gridcolor": "white",
            "linecolor": "white",
            "ticks": ""
           }
          },
          "title": {
           "x": 0.05
          },
          "xaxis": {
           "automargin": true,
           "gridcolor": "white",
           "linecolor": "white",
           "ticks": "",
           "title": {
            "standoff": 15
           },
           "zerolinecolor": "white",
           "zerolinewidth": 2
          },
          "yaxis": {
           "automargin": true,
           "gridcolor": "white",
           "linecolor": "white",
           "ticks": "",
           "title": {
            "standoff": 15
           },
           "zerolinecolor": "white",
           "zerolinewidth": 2
          }
         }
        },
        "title": {
         "text": "Waste Types, Substreams and how they're <b>Wrongly</b> Disposed In different bins"
        },
        "xaxis": {
         "anchor": "y",
         "domain": [
          0,
          1
         ],
         "title": {
          "text": "Weight (in pounds)"
         }
        },
        "yaxis": {
         "anchor": "x",
         "domain": [
          0,
          1
         ],
         "title": {
          "text": "Waste Types"
         }
        }
       }
      }
     },
     "metadata": {},
     "output_type": "display_data"
    },
    {
     "data": {
      "text/html": [
       "<div>\n",
       "<style scoped>\n",
       "    .dataframe tbody tr th:only-of-type {\n",
       "        vertical-align: middle;\n",
       "    }\n",
       "\n",
       "    .dataframe tbody tr th {\n",
       "        vertical-align: top;\n",
       "    }\n",
       "\n",
       "    .dataframe thead th {\n",
       "        text-align: right;\n",
       "    }\n",
       "</style>\n",
       "<table border=\"1\" class=\"dataframe\">\n",
       "  <thead>\n",
       "    <tr style=\"text-align: right;\">\n",
       "      <th></th>\n",
       "      <th>Waste Type</th>\n",
       "      <th>Substream</th>\n",
       "      <th>Disposed In</th>\n",
       "      <th>Weight</th>\n",
       "      <th>%</th>\n",
       "    </tr>\n",
       "  </thead>\n",
       "  <tbody>\n",
       "    <tr>\n",
       "      <th>0</th>\n",
       "      <td>Compost</td>\n",
       "      <td>Paper towels</td>\n",
       "      <td>Landfill</td>\n",
       "      <td>205.10</td>\n",
       "      <td>91.644325</td>\n",
       "    </tr>\n",
       "    <tr>\n",
       "      <th>1</th>\n",
       "      <td>Compost</td>\n",
       "      <td>Paper towels</td>\n",
       "      <td>Recycling</td>\n",
       "      <td>18.70</td>\n",
       "      <td>8.355675</td>\n",
       "    </tr>\n",
       "    <tr>\n",
       "      <th>2</th>\n",
       "      <td>Compost</td>\n",
       "      <td>Misc. meal waste</td>\n",
       "      <td>Landfill</td>\n",
       "      <td>762.70</td>\n",
       "      <td>99.090555</td>\n",
       "    </tr>\n",
       "    <tr>\n",
       "      <th>3</th>\n",
       "      <td>Compost</td>\n",
       "      <td>Misc. meal waste</td>\n",
       "      <td>Recycling</td>\n",
       "      <td>7.00</td>\n",
       "      <td>0.909445</td>\n",
       "    </tr>\n",
       "    <tr>\n",
       "      <th>4</th>\n",
       "      <td>Landfill</td>\n",
       "      <td>Reusables</td>\n",
       "      <td>Recycling</td>\n",
       "      <td>2.00</td>\n",
       "      <td>100.000000</td>\n",
       "    </tr>\n",
       "    <tr>\n",
       "      <th>5</th>\n",
       "      <td>Recycling</td>\n",
       "      <td>Cardboard</td>\n",
       "      <td>Compost</td>\n",
       "      <td>0.80</td>\n",
       "      <td>0.840336</td>\n",
       "    </tr>\n",
       "    <tr>\n",
       "      <th>6</th>\n",
       "      <td>Recycling</td>\n",
       "      <td>Cardboard</td>\n",
       "      <td>Landfill</td>\n",
       "      <td>94.40</td>\n",
       "      <td>99.159664</td>\n",
       "    </tr>\n",
       "    <tr>\n",
       "      <th>7</th>\n",
       "      <td>Reusables</td>\n",
       "      <td>Reusables</td>\n",
       "      <td>Compost</td>\n",
       "      <td>1.21</td>\n",
       "      <td>0.944501</td>\n",
       "    </tr>\n",
       "    <tr>\n",
       "      <th>8</th>\n",
       "      <td>Reusables</td>\n",
       "      <td>Reusables</td>\n",
       "      <td>Landfill</td>\n",
       "      <td>103.10</td>\n",
       "      <td>80.477714</td>\n",
       "    </tr>\n",
       "    <tr>\n",
       "      <th>9</th>\n",
       "      <td>Reusables</td>\n",
       "      <td>Reusables</td>\n",
       "      <td>Recycling</td>\n",
       "      <td>23.80</td>\n",
       "      <td>18.577785</td>\n",
       "    </tr>\n",
       "  </tbody>\n",
       "</table>\n",
       "</div>"
      ],
      "text/plain": [
       "  Waste Type         Substream Disposed In  Weight           %\n",
       "0    Compost      Paper towels    Landfill  205.10   91.644325\n",
       "1    Compost      Paper towels   Recycling   18.70    8.355675\n",
       "2    Compost  Misc. meal waste    Landfill  762.70   99.090555\n",
       "3    Compost  Misc. meal waste   Recycling    7.00    0.909445\n",
       "4   Landfill         Reusables   Recycling    2.00  100.000000\n",
       "5  Recycling         Cardboard     Compost    0.80    0.840336\n",
       "6  Recycling         Cardboard    Landfill   94.40   99.159664\n",
       "7  Reusables         Reusables     Compost    1.21    0.944501\n",
       "8  Reusables         Reusables    Landfill  103.10   80.477714\n",
       "9  Reusables         Reusables   Recycling   23.80   18.577785"
      ]
     },
     "execution_count": 12,
     "metadata": {},
     "output_type": "execute_result"
    }
   ],
   "source": [
    "import numpy as np\n",
    "def _plot_disposed_in_graph(df: pd.DataFrame, keys):\n",
    "    \"\"\"\n",
    "    df should be a multi-indexed df having (WASTETYPE, SUBSTREAM, DISPOSED) as the index\n",
    "    keys should be a list of tuples. Each tuple has 2 element representing: (WasteType, Substream).\n",
    "    It represents which waste types to display on the grpah\n",
    "    \"\"\"\n",
    "    wtdf: pd.DataFrame = df.select_rows(keys)\n",
    "    wtdf = wtdf.reset_index()\n",
    "    fig = make_subplots(rows=1, cols=1)\n",
    "\n",
    "    fig.add_trace(\n",
    "        go.Bar(\n",
    "            y=[wtdf[WASTE_TYPE].tolist(), wtdf[SUBSTREAM].tolist(), wtdf[DISPOSED_IN].tolist()],\n",
    "            x=wtdf[WEIGHT],\n",
    "            customdata=wtdf[DISPOSED_IN].tolist(),# wtdf['%'].tolist()]),\n",
    "            orientation='h',\n",
    "            marker={'color': [clr_map_mld[clr] for clr in wtdf[DISPOSED_IN].tolist()]},\n",
    "            hovertext=wtdf[DISPOSED_IN].tolist(),\n",
    "            hovertemplate=\n",
    "            \"<b>Disposed In</b><br><br>%{customdata}: %{x} pound(s)\"\n",
    "        )\n",
    "    )\n",
    "\n",
    "    # title = f'Different of types of waste wrongly thrown into the <b style=\"color:{clr_map_bld[bin_name]};\">{bin_name}</b> bin '\n",
    "    # title+= f'for <b>{building_name}</b> building' if building_name else ''\n",
    "    fig.update_xaxes(title_text='Weight (in pounds)')\n",
    "    fig.update_yaxes(title_text='Waste Types')\n",
    "    fig.update_layout(title=\"Waste Types, Substreams and how they're <b>Wrongly</b> Disposed In different bins\")\n",
    "    return fig, wtdf\n",
    "\n",
    "\n",
    "fig, tdf = _plot_disposed_in_graph(op, [('Compost', 'Paper towels'), ('Compost', 'Misc. meal waste'), ('Landfill', 'Reusables'), ('Recycling', 'Cardboard'), ('Reusables', 'Reusables')])\n",
    "fig.show()\n",
    "\n",
    "tdf\n"
   ]
  },
  {
   "attachments": {},
   "cell_type": "markdown",
   "metadata": {},
   "source": [
    "#### **What kind of waste is most oftenly misclassified?**\n",
    "- Interms of volume and %age"
   ]
  },
  {
   "cell_type": "code",
   "execution_count": 13,
   "metadata": {},
   "outputs": [
    {
     "ename": "NameError",
     "evalue": "name 'TOTAL_DISCLASSIFIED_WEIGHT' is not defined",
     "output_type": "error",
     "traceback": [
      "\u001b[0;31m---------------------------------------------------------------------------\u001b[0m",
      "\u001b[0;31mNameError\u001b[0m                                 Traceback (most recent call last)",
      "Cell \u001b[0;32mIn[13], line 6\u001b[0m\n\u001b[1;32m      3\u001b[0m wgt \u001b[39m=\u001b[39m temp_df\u001b[39m.\u001b[39mloc[temp_df[WASTE_TYPE]\u001b[39m!=\u001b[39mtemp_df[DISPOSED_IN]]\u001b[39m.\u001b[39mgroupby([WASTE_TYPE])\u001b[39m.\u001b[39magg({WEIGHT: \u001b[39m'\u001b[39m\u001b[39msum\u001b[39m\u001b[39m'\u001b[39m})\u001b[39m.\u001b[39msort_values(WEIGHT, ascending\u001b[39m=\u001b[39m\u001b[39mFalse\u001b[39;00m)\n\u001b[1;32m      5\u001b[0m \u001b[39m# interms of %age\u001b[39;00m\n\u001b[0;32m----> 6\u001b[0m perc \u001b[39m=\u001b[39m temp_df\u001b[39m.\u001b[39mloc[temp_df[WASTE_TYPE]\u001b[39m!=\u001b[39mtemp_df[DISPOSED_IN]]\u001b[39m.\u001b[39mgroupby([WASTE_TYPE])\u001b[39m.\u001b[39magg({WEIGHT: \u001b[39m'\u001b[39m\u001b[39msum\u001b[39m\u001b[39m'\u001b[39m}) \u001b[39m/\u001b[39m TOTAL_DISCLASSIFIED_WEIGHT \u001b[39m*\u001b[39m \u001b[39m100\u001b[39m\n\u001b[1;32m      7\u001b[0m perc \u001b[39m=\u001b[39m perc\u001b[39m.\u001b[39msort_values(WEIGHT, ascending\u001b[39m=\u001b[39m\u001b[39mFalse\u001b[39;00m)\n\u001b[1;32m      8\u001b[0m perc\n",
      "\u001b[0;31mNameError\u001b[0m: name 'TOTAL_DISCLASSIFIED_WEIGHT' is not defined"
     ]
    }
   ],
   "source": [
    "temp_df = df.loc[:]\n",
    "# interms of weight\n",
    "wgt = temp_df.loc[temp_df[WASTE_TYPE]!=temp_df[DISPOSED_IN]].groupby([WASTE_TYPE]).agg({WEIGHT: 'sum'}).sort_values(WEIGHT, ascending=False)\n",
    "\n",
    "# interms of %age\n",
    "perc = temp_df.loc[temp_df[WASTE_TYPE]!=temp_df[DISPOSED_IN]].groupby([WASTE_TYPE]).agg({WEIGHT: 'sum'}) / TOTAL_DISCLASSIFIED_WEIGHT * 100\n",
    "perc = perc.sort_values(WEIGHT, ascending=False)\n",
    "perc"
   ]
  },
  {
   "attachments": {},
   "cell_type": "markdown",
   "metadata": {},
   "source": [
    "#### **So compost is oftenly misclassified. But where are we going wrong?**\n",
    "- Interms of volume and %age"
   ]
  },
  {
   "cell_type": "code",
   "execution_count": null,
   "metadata": {},
   "outputs": [
    {
     "data": {
      "text/html": [
       "<div>\n",
       "<style scoped>\n",
       "    .dataframe tbody tr th:only-of-type {\n",
       "        vertical-align: middle;\n",
       "    }\n",
       "\n",
       "    .dataframe tbody tr th {\n",
       "        vertical-align: top;\n",
       "    }\n",
       "\n",
       "    .dataframe thead th {\n",
       "        text-align: right;\n",
       "    }\n",
       "</style>\n",
       "<table border=\"1\" class=\"dataframe\">\n",
       "  <thead>\n",
       "    <tr style=\"text-align: right;\">\n",
       "      <th></th>\n",
       "      <th></th>\n",
       "      <th>Weight</th>\n",
       "    </tr>\n",
       "    <tr>\n",
       "      <th>Waste Type</th>\n",
       "      <th>Substream</th>\n",
       "      <th></th>\n",
       "    </tr>\n",
       "  </thead>\n",
       "  <tbody>\n",
       "    <tr>\n",
       "      <th>Compost</th>\n",
       "      <th>Misc. meal waste</th>\n",
       "      <td>31.021655</td>\n",
       "    </tr>\n",
       "    <tr>\n",
       "      <th>Recycling</th>\n",
       "      <th>Plastic 1-7</th>\n",
       "      <td>16.331408</td>\n",
       "    </tr>\n",
       "    <tr>\n",
       "      <th rowspan=\"2\" valign=\"top\">Compost</th>\n",
       "      <th>Compostable food containers</th>\n",
       "      <td>11.252756</td>\n",
       "    </tr>\n",
       "    <tr>\n",
       "      <th>Paper towels</th>\n",
       "      <td>9.019938</td>\n",
       "    </tr>\n",
       "    <tr>\n",
       "      <th>Recycling</th>\n",
       "      <th>Paper</th>\n",
       "      <td>6.074151</td>\n",
       "    </tr>\n",
       "    <tr>\n",
       "      <th>Reusables</th>\n",
       "      <th>Reusables</th>\n",
       "      <td>5.163290</td>\n",
       "    </tr>\n",
       "    <tr>\n",
       "      <th rowspan=\"2\" valign=\"top\">Recycling</th>\n",
       "      <th>Glass</th>\n",
       "      <td>4.090812</td>\n",
       "    </tr>\n",
       "    <tr>\n",
       "      <th>Cardboard</th>\n",
       "      <td>3.836900</td>\n",
       "    </tr>\n",
       "    <tr>\n",
       "      <th>Compost</th>\n",
       "      <th>Food/organic waste</th>\n",
       "      <td>3.587017</td>\n",
       "    </tr>\n",
       "    <tr>\n",
       "      <th>Recycling</th>\n",
       "      <th>Metal</th>\n",
       "      <td>2.185259</td>\n",
       "    </tr>\n",
       "    <tr>\n",
       "      <th>Landfill</th>\n",
       "      <th>Other landfill</th>\n",
       "      <td>1.423522</td>\n",
       "    </tr>\n",
       "    <tr>\n",
       "      <th>Compost</th>\n",
       "      <th>Compostable dining waste (non-edible)</th>\n",
       "      <td>0.999528</td>\n",
       "    </tr>\n",
       "    <tr>\n",
       "      <th rowspan=\"5\" valign=\"top\">Recycling</th>\n",
       "      <th>Const/demo waste</th>\n",
       "      <td>0.957210</td>\n",
       "    </tr>\n",
       "    <tr>\n",
       "      <th>Terracycle</th>\n",
       "      <td>0.873378</td>\n",
       "    </tr>\n",
       "    <tr>\n",
       "      <th>Paperboard</th>\n",
       "      <td>0.687579</td>\n",
       "    </tr>\n",
       "    <tr>\n",
       "      <th>Aseptic containers</th>\n",
       "      <td>0.644857</td>\n",
       "    </tr>\n",
       "    <tr>\n",
       "      <th>Electronic &amp; universal waste</th>\n",
       "      <td>0.464297</td>\n",
       "    </tr>\n",
       "    <tr>\n",
       "      <th rowspan=\"3\" valign=\"top\">Compost</th>\n",
       "      <th>Scu coffee cups</th>\n",
       "      <td>0.415127</td>\n",
       "    </tr>\n",
       "    <tr>\n",
       "      <th>Bpi certified compostable to-go ware</th>\n",
       "      <td>0.306307</td>\n",
       "    </tr>\n",
       "    <tr>\n",
       "      <th>Napkins/paper towels</th>\n",
       "      <td>0.286155</td>\n",
       "    </tr>\n",
       "    <tr>\n",
       "      <th>Recycling</th>\n",
       "      <th>Paper towels</th>\n",
       "      <td>0.274064</td>\n",
       "    </tr>\n",
       "    <tr>\n",
       "      <th rowspan=\"2\" valign=\"top\">Landfill</th>\n",
       "      <th>Reusables</th>\n",
       "      <td>0.080607</td>\n",
       "    </tr>\n",
       "    <tr>\n",
       "      <th>Styrofoam</th>\n",
       "      <td>0.024182</td>\n",
       "    </tr>\n",
       "  </tbody>\n",
       "</table>\n",
       "</div>"
      ],
      "text/plain": [
       "                                                     Weight\n",
       "Waste Type Substream                                       \n",
       "Compost    Misc. meal waste                       31.021655\n",
       "Recycling  Plastic 1-7                            16.331408\n",
       "Compost    Compostable food containers            11.252756\n",
       "           Paper towels                            9.019938\n",
       "Recycling  Paper                                   6.074151\n",
       "Reusables  Reusables                               5.163290\n",
       "Recycling  Glass                                   4.090812\n",
       "           Cardboard                               3.836900\n",
       "Compost    Food/organic waste                      3.587017\n",
       "Recycling  Metal                                   2.185259\n",
       "Landfill   Other landfill                          1.423522\n",
       "Compost    Compostable dining waste (non-edible)   0.999528\n",
       "Recycling  Const/demo waste                        0.957210\n",
       "           Terracycle                              0.873378\n",
       "           Paperboard                              0.687579\n",
       "           Aseptic containers                      0.644857\n",
       "           Electronic & universal waste            0.464297\n",
       "Compost    Scu coffee cups                         0.415127\n",
       "           Bpi certified compostable to-go ware    0.306307\n",
       "           Napkins/paper towels                    0.286155\n",
       "Recycling  Paper towels                            0.274064\n",
       "Landfill   Reusables                               0.080607\n",
       "           Styrofoam                               0.024182"
      ]
     },
     "execution_count": 275,
     "metadata": {},
     "output_type": "execute_result"
    }
   ],
   "source": [
    "temp_df = df.loc[:]\n",
    "# interms of weight\n",
    "wgt = temp_df.loc[temp_df[WASTE_TYPE]!=temp_df[DISPOSED_IN]].groupby([WASTE_TYPE, SUBSTREAM]).agg({WEIGHT: 'sum'})#.sort_values(WEIGHT, ascending=False)\n",
    "wgt #.sort_values(WEIGHT, ascending=False)\n",
    "\n",
    "## interms of %age\n",
    "perc = temp_df.loc[temp_df[WASTE_TYPE]!=temp_df[DISPOSED_IN]].groupby([WASTE_TYPE, SUBSTREAM]).agg({WEIGHT: 'sum'}) / TOTAL_DISCLASSIFIED_WEIGHT * 100\n",
    "perc.sort_values(WEIGHT, ascending=False)"
   ]
  },
  {
   "attachments": {},
   "cell_type": "markdown",
   "metadata": {},
   "source": [
    "#### **Okay so we know what substreams are most oftenly misclassified. But with what bin are we misclassifying it?**"
   ]
  },
  {
   "cell_type": "code",
   "execution_count": 14,
   "metadata": {},
   "outputs": [
    {
     "data": {
      "text/html": [
       "<div>\n",
       "<style scoped>\n",
       "    .dataframe tbody tr th:only-of-type {\n",
       "        vertical-align: middle;\n",
       "    }\n",
       "\n",
       "    .dataframe tbody tr th {\n",
       "        vertical-align: top;\n",
       "    }\n",
       "\n",
       "    .dataframe thead th {\n",
       "        text-align: right;\n",
       "    }\n",
       "</style>\n",
       "<table border=\"1\" class=\"dataframe\">\n",
       "  <thead>\n",
       "    <tr style=\"text-align: right;\">\n",
       "      <th></th>\n",
       "      <th></th>\n",
       "      <th></th>\n",
       "      <th>Weight</th>\n",
       "      <th>%</th>\n",
       "    </tr>\n",
       "    <tr>\n",
       "      <th>Waste Type</th>\n",
       "      <th>Substream</th>\n",
       "      <th>Disposed In</th>\n",
       "      <th></th>\n",
       "      <th></th>\n",
       "    </tr>\n",
       "  </thead>\n",
       "  <tbody>\n",
       "    <tr>\n",
       "      <th rowspan=\"13\" valign=\"top\">Compost</th>\n",
       "      <th>Bpi certified compostable to-go ware</th>\n",
       "      <th>Landfill</th>\n",
       "      <td>7.60</td>\n",
       "      <td>100.000000</td>\n",
       "    </tr>\n",
       "    <tr>\n",
       "      <th rowspan=\"2\" valign=\"top\">Compostable dining waste (non-edible)</th>\n",
       "      <th>Landfill</th>\n",
       "      <td>24.20</td>\n",
       "      <td>97.580645</td>\n",
       "    </tr>\n",
       "    <tr>\n",
       "      <th>Recycling</th>\n",
       "      <td>0.60</td>\n",
       "      <td>2.419355</td>\n",
       "    </tr>\n",
       "    <tr>\n",
       "      <th rowspan=\"2\" valign=\"top\">Compostable food containers</th>\n",
       "      <th>Landfill</th>\n",
       "      <td>267.70</td>\n",
       "      <td>95.881089</td>\n",
       "    </tr>\n",
       "    <tr>\n",
       "      <th>Recycling</th>\n",
       "      <td>11.50</td>\n",
       "      <td>4.118911</td>\n",
       "    </tr>\n",
       "    <tr>\n",
       "      <th rowspan=\"2\" valign=\"top\">Food/organic waste</th>\n",
       "      <th>Landfill</th>\n",
       "      <td>87.30</td>\n",
       "      <td>98.089888</td>\n",
       "    </tr>\n",
       "    <tr>\n",
       "      <th>Recycling</th>\n",
       "      <td>1.70</td>\n",
       "      <td>1.910112</td>\n",
       "    </tr>\n",
       "    <tr>\n",
       "      <th rowspan=\"2\" valign=\"top\">Misc. meal waste</th>\n",
       "      <th>Landfill</th>\n",
       "      <td>762.70</td>\n",
       "      <td>99.090555</td>\n",
       "    </tr>\n",
       "    <tr>\n",
       "      <th>Recycling</th>\n",
       "      <td>7.00</td>\n",
       "      <td>0.909445</td>\n",
       "    </tr>\n",
       "    <tr>\n",
       "      <th>Napkins/paper towels</th>\n",
       "      <th>Landfill</th>\n",
       "      <td>7.10</td>\n",
       "      <td>100.000000</td>\n",
       "    </tr>\n",
       "    <tr>\n",
       "      <th rowspan=\"2\" valign=\"top\">Paper towels</th>\n",
       "      <th>Landfill</th>\n",
       "      <td>205.10</td>\n",
       "      <td>91.644325</td>\n",
       "    </tr>\n",
       "    <tr>\n",
       "      <th>Recycling</th>\n",
       "      <td>18.70</td>\n",
       "      <td>8.355675</td>\n",
       "    </tr>\n",
       "    <tr>\n",
       "      <th>Scu coffee cups</th>\n",
       "      <th>Landfill</th>\n",
       "      <td>10.30</td>\n",
       "      <td>100.000000</td>\n",
       "    </tr>\n",
       "    <tr>\n",
       "      <th rowspan=\"4\" valign=\"top\">Landfill</th>\n",
       "      <th rowspan=\"2\" valign=\"top\">Other landfill</th>\n",
       "      <th>Compost</th>\n",
       "      <td>4.81</td>\n",
       "      <td>13.618347</td>\n",
       "    </tr>\n",
       "    <tr>\n",
       "      <th>Recycling</th>\n",
       "      <td>30.51</td>\n",
       "      <td>86.381653</td>\n",
       "    </tr>\n",
       "    <tr>\n",
       "      <th>Reusables</th>\n",
       "      <th>Recycling</th>\n",
       "      <td>2.00</td>\n",
       "      <td>100.000000</td>\n",
       "    </tr>\n",
       "    <tr>\n",
       "      <th>Styrofoam</th>\n",
       "      <th>Recycling</th>\n",
       "      <td>0.60</td>\n",
       "      <td>100.000000</td>\n",
       "    </tr>\n",
       "    <tr>\n",
       "      <th rowspan=\"20\" valign=\"top\">Recycling</th>\n",
       "      <th rowspan=\"2\" valign=\"top\">Aseptic containers</th>\n",
       "      <th>Compost</th>\n",
       "      <td>0.60</td>\n",
       "      <td>3.750000</td>\n",
       "    </tr>\n",
       "    <tr>\n",
       "      <th>Landfill</th>\n",
       "      <td>15.40</td>\n",
       "      <td>96.250000</td>\n",
       "    </tr>\n",
       "    <tr>\n",
       "      <th rowspan=\"2\" valign=\"top\">Cardboard</th>\n",
       "      <th>Compost</th>\n",
       "      <td>0.80</td>\n",
       "      <td>0.840336</td>\n",
       "    </tr>\n",
       "    <tr>\n",
       "      <th>Landfill</th>\n",
       "      <td>94.40</td>\n",
       "      <td>99.159664</td>\n",
       "    </tr>\n",
       "    <tr>\n",
       "      <th>Const/demo waste</th>\n",
       "      <th>Landfill</th>\n",
       "      <td>23.75</td>\n",
       "      <td>100.000000</td>\n",
       "    </tr>\n",
       "    <tr>\n",
       "      <th rowspan=\"2\" valign=\"top\">Electronic &amp; universal waste</th>\n",
       "      <th>Compost</th>\n",
       "      <td>0.01</td>\n",
       "      <td>0.086806</td>\n",
       "    </tr>\n",
       "    <tr>\n",
       "      <th>Landfill</th>\n",
       "      <td>11.51</td>\n",
       "      <td>99.913194</td>\n",
       "    </tr>\n",
       "    <tr>\n",
       "      <th rowspan=\"2\" valign=\"top\">Glass</th>\n",
       "      <th>Compost</th>\n",
       "      <td>1.90</td>\n",
       "      <td>1.871921</td>\n",
       "    </tr>\n",
       "    <tr>\n",
       "      <th>Landfill</th>\n",
       "      <td>99.60</td>\n",
       "      <td>98.128079</td>\n",
       "    </tr>\n",
       "    <tr>\n",
       "      <th rowspan=\"2\" valign=\"top\">Metal</th>\n",
       "      <th>Compost</th>\n",
       "      <td>1.00</td>\n",
       "      <td>1.844338</td>\n",
       "    </tr>\n",
       "    <tr>\n",
       "      <th>Landfill</th>\n",
       "      <td>53.22</td>\n",
       "      <td>98.155662</td>\n",
       "    </tr>\n",
       "    <tr>\n",
       "      <th rowspan=\"2\" valign=\"top\">Paper</th>\n",
       "      <th>Compost</th>\n",
       "      <td>1.01</td>\n",
       "      <td>0.670161</td>\n",
       "    </tr>\n",
       "    <tr>\n",
       "      <th>Landfill</th>\n",
       "      <td>149.70</td>\n",
       "      <td>99.329839</td>\n",
       "    </tr>\n",
       "    <tr>\n",
       "      <th>Paper towels</th>\n",
       "      <th>Landfill</th>\n",
       "      <td>6.80</td>\n",
       "      <td>100.000000</td>\n",
       "    </tr>\n",
       "    <tr>\n",
       "      <th rowspan=\"2\" valign=\"top\">Paperboard</th>\n",
       "      <th>Compost</th>\n",
       "      <td>0.75</td>\n",
       "      <td>4.396249</td>\n",
       "    </tr>\n",
       "    <tr>\n",
       "      <th>Landfill</th>\n",
       "      <td>16.31</td>\n",
       "      <td>95.603751</td>\n",
       "    </tr>\n",
       "    <tr>\n",
       "      <th rowspan=\"2\" valign=\"top\">Plastic 1-7</th>\n",
       "      <th>Compost</th>\n",
       "      <td>7.01</td>\n",
       "      <td>1.729967</td>\n",
       "    </tr>\n",
       "    <tr>\n",
       "      <th>Landfill</th>\n",
       "      <td>398.20</td>\n",
       "      <td>98.270033</td>\n",
       "    </tr>\n",
       "    <tr>\n",
       "      <th rowspan=\"2\" valign=\"top\">Terracycle</th>\n",
       "      <th>Compost</th>\n",
       "      <td>1.90</td>\n",
       "      <td>8.767882</td>\n",
       "    </tr>\n",
       "    <tr>\n",
       "      <th>Landfill</th>\n",
       "      <td>19.77</td>\n",
       "      <td>91.232118</td>\n",
       "    </tr>\n",
       "    <tr>\n",
       "      <th rowspan=\"3\" valign=\"top\">Reusables</th>\n",
       "      <th rowspan=\"3\" valign=\"top\">Reusables</th>\n",
       "      <th>Compost</th>\n",
       "      <td>1.21</td>\n",
       "      <td>0.944501</td>\n",
       "    </tr>\n",
       "    <tr>\n",
       "      <th>Landfill</th>\n",
       "      <td>103.10</td>\n",
       "      <td>80.477714</td>\n",
       "    </tr>\n",
       "    <tr>\n",
       "      <th>Recycling</th>\n",
       "      <td>23.80</td>\n",
       "      <td>18.577785</td>\n",
       "    </tr>\n",
       "  </tbody>\n",
       "</table>\n",
       "</div>"
      ],
      "text/plain": [
       "                                                              Weight   \n",
       "Waste Type Substream                             Disposed In           \n",
       "Compost    Bpi certified compostable to-go ware  Landfill       7.60  \\\n",
       "           Compostable dining waste (non-edible) Landfill      24.20   \n",
       "                                                 Recycling      0.60   \n",
       "           Compostable food containers           Landfill     267.70   \n",
       "                                                 Recycling     11.50   \n",
       "           Food/organic waste                    Landfill      87.30   \n",
       "                                                 Recycling      1.70   \n",
       "           Misc. meal waste                      Landfill     762.70   \n",
       "                                                 Recycling      7.00   \n",
       "           Napkins/paper towels                  Landfill       7.10   \n",
       "           Paper towels                          Landfill     205.10   \n",
       "                                                 Recycling     18.70   \n",
       "           Scu coffee cups                       Landfill      10.30   \n",
       "Landfill   Other landfill                        Compost        4.81   \n",
       "                                                 Recycling     30.51   \n",
       "           Reusables                             Recycling      2.00   \n",
       "           Styrofoam                             Recycling      0.60   \n",
       "Recycling  Aseptic containers                    Compost        0.60   \n",
       "                                                 Landfill      15.40   \n",
       "           Cardboard                             Compost        0.80   \n",
       "                                                 Landfill      94.40   \n",
       "           Const/demo waste                      Landfill      23.75   \n",
       "           Electronic & universal waste          Compost        0.01   \n",
       "                                                 Landfill      11.51   \n",
       "           Glass                                 Compost        1.90   \n",
       "                                                 Landfill      99.60   \n",
       "           Metal                                 Compost        1.00   \n",
       "                                                 Landfill      53.22   \n",
       "           Paper                                 Compost        1.01   \n",
       "                                                 Landfill     149.70   \n",
       "           Paper towels                          Landfill       6.80   \n",
       "           Paperboard                            Compost        0.75   \n",
       "                                                 Landfill      16.31   \n",
       "           Plastic 1-7                           Compost        7.01   \n",
       "                                                 Landfill     398.20   \n",
       "           Terracycle                            Compost        1.90   \n",
       "                                                 Landfill      19.77   \n",
       "Reusables  Reusables                             Compost        1.21   \n",
       "                                                 Landfill     103.10   \n",
       "                                                 Recycling     23.80   \n",
       "\n",
       "                                                                       %  \n",
       "Waste Type Substream                             Disposed In              \n",
       "Compost    Bpi certified compostable to-go ware  Landfill     100.000000  \n",
       "           Compostable dining waste (non-edible) Landfill      97.580645  \n",
       "                                                 Recycling      2.419355  \n",
       "           Compostable food containers           Landfill      95.881089  \n",
       "                                                 Recycling      4.118911  \n",
       "           Food/organic waste                    Landfill      98.089888  \n",
       "                                                 Recycling      1.910112  \n",
       "           Misc. meal waste                      Landfill      99.090555  \n",
       "                                                 Recycling      0.909445  \n",
       "           Napkins/paper towels                  Landfill     100.000000  \n",
       "           Paper towels                          Landfill      91.644325  \n",
       "                                                 Recycling      8.355675  \n",
       "           Scu coffee cups                       Landfill     100.000000  \n",
       "Landfill   Other landfill                        Compost       13.618347  \n",
       "                                                 Recycling     86.381653  \n",
       "           Reusables                             Recycling    100.000000  \n",
       "           Styrofoam                             Recycling    100.000000  \n",
       "Recycling  Aseptic containers                    Compost        3.750000  \n",
       "                                                 Landfill      96.250000  \n",
       "           Cardboard                             Compost        0.840336  \n",
       "                                                 Landfill      99.159664  \n",
       "           Const/demo waste                      Landfill     100.000000  \n",
       "           Electronic & universal waste          Compost        0.086806  \n",
       "                                                 Landfill      99.913194  \n",
       "           Glass                                 Compost        1.871921  \n",
       "                                                 Landfill      98.128079  \n",
       "           Metal                                 Compost        1.844338  \n",
       "                                                 Landfill      98.155662  \n",
       "           Paper                                 Compost        0.670161  \n",
       "                                                 Landfill      99.329839  \n",
       "           Paper towels                          Landfill     100.000000  \n",
       "           Paperboard                            Compost        4.396249  \n",
       "                                                 Landfill      95.603751  \n",
       "           Plastic 1-7                           Compost        1.729967  \n",
       "                                                 Landfill      98.270033  \n",
       "           Terracycle                            Compost        8.767882  \n",
       "                                                 Landfill      91.232118  \n",
       "Reusables  Reusables                             Compost        0.944501  \n",
       "                                                 Landfill      80.477714  \n",
       "                                                 Recycling     18.577785  "
      ]
     },
     "execution_count": 14,
     "metadata": {},
     "output_type": "execute_result"
    }
   ],
   "source": [
    "temp_df = df.loc[:]\n",
    "# interms of weight\n",
    "wgt = temp_df.loc[temp_df[WASTE_TYPE]!=temp_df[DISPOSED_IN]].groupby([WASTE_TYPE, SUBSTREAM, DISPOSED_IN]).agg({WEIGHT: 'sum'})#.sort_values(WEIGHT, ascending=False)\n",
    "wgt#.sort_values(WEIGHT, ascending=False)\n",
    "\n",
    "## %age\n",
    "wgt['%'] = 100 * wgt[WEIGHT] / wgt.groupby([WASTE_TYPE, SUBSTREAM])[WEIGHT].transform('sum')\n",
    "wgt#.reset_index().sort_values([WEIGHT, WASTE_TYPE,SUBSTREAM], ascending=False)"
   ]
  },
  {
   "attachments": {},
   "cell_type": "markdown",
   "metadata": {},
   "source": [
    "### 2.a. Misclassified and classified waste types"
   ]
  },
  {
   "cell_type": "code",
   "execution_count": 27,
   "metadata": {},
   "outputs": [
    {
     "data": {
      "application/vnd.plotly.v1+json": {
       "config": {
        "plotlyServerURL": "https://plot.ly"
       },
       "data": [
        {
         "marker": {
          "color": [
           "#7AE288",
           "#7AE288",
           "#7AE288",
           "#AFAFAF"
          ]
         },
         "orientation": "h",
         "type": "bar",
         "x": [
          0.6,
          1.7,
          0.5,
          3.3
         ],
         "y": [
          [
           "Compost",
           "Compost",
           "Compost",
           "Landfill"
          ],
          [
           "Compostable dining waste (non-edible)",
           "Food/organic waste",
           "Paper towels",
           "Other landfill"
          ]
         ]
        }
       ],
       "layout": {
        "template": {
         "data": {
          "bar": [
           {
            "error_x": {
             "color": "#2a3f5f"
            },
            "error_y": {
             "color": "#2a3f5f"
            },
            "marker": {
             "line": {
              "color": "#E5ECF6",
              "width": 0.5
             },
             "pattern": {
              "fillmode": "overlay",
              "size": 10,
              "solidity": 0.2
             }
            },
            "type": "bar"
           }
          ],
          "barpolar": [
           {
            "marker": {
             "line": {
              "color": "#E5ECF6",
              "width": 0.5
             },
             "pattern": {
              "fillmode": "overlay",
              "size": 10,
              "solidity": 0.2
             }
            },
            "type": "barpolar"
           }
          ],
          "carpet": [
           {
            "aaxis": {
             "endlinecolor": "#2a3f5f",
             "gridcolor": "white",
             "linecolor": "white",
             "minorgridcolor": "white",
             "startlinecolor": "#2a3f5f"
            },
            "baxis": {
             "endlinecolor": "#2a3f5f",
             "gridcolor": "white",
             "linecolor": "white",
             "minorgridcolor": "white",
             "startlinecolor": "#2a3f5f"
            },
            "type": "carpet"
           }
          ],
          "choropleth": [
           {
            "colorbar": {
             "outlinewidth": 0,
             "ticks": ""
            },
            "type": "choropleth"
           }
          ],
          "contour": [
           {
            "colorbar": {
             "outlinewidth": 0,
             "ticks": ""
            },
            "colorscale": [
             [
              0,
              "#0d0887"
             ],
             [
              0.1111111111111111,
              "#46039f"
             ],
             [
              0.2222222222222222,
              "#7201a8"
             ],
             [
              0.3333333333333333,
              "#9c179e"
             ],
             [
              0.4444444444444444,
              "#bd3786"
             ],
             [
              0.5555555555555556,
              "#d8576b"
             ],
             [
              0.6666666666666666,
              "#ed7953"
             ],
             [
              0.7777777777777778,
              "#fb9f3a"
             ],
             [
              0.8888888888888888,
              "#fdca26"
             ],
             [
              1,
              "#f0f921"
             ]
            ],
            "type": "contour"
           }
          ],
          "contourcarpet": [
           {
            "colorbar": {
             "outlinewidth": 0,
             "ticks": ""
            },
            "type": "contourcarpet"
           }
          ],
          "heatmap": [
           {
            "colorbar": {
             "outlinewidth": 0,
             "ticks": ""
            },
            "colorscale": [
             [
              0,
              "#0d0887"
             ],
             [
              0.1111111111111111,
              "#46039f"
             ],
             [
              0.2222222222222222,
              "#7201a8"
             ],
             [
              0.3333333333333333,
              "#9c179e"
             ],
             [
              0.4444444444444444,
              "#bd3786"
             ],
             [
              0.5555555555555556,
              "#d8576b"
             ],
             [
              0.6666666666666666,
              "#ed7953"
             ],
             [
              0.7777777777777778,
              "#fb9f3a"
             ],
             [
              0.8888888888888888,
              "#fdca26"
             ],
             [
              1,
              "#f0f921"
             ]
            ],
            "type": "heatmap"
           }
          ],
          "heatmapgl": [
           {
            "colorbar": {
             "outlinewidth": 0,
             "ticks": ""
            },
            "colorscale": [
             [
              0,
              "#0d0887"
             ],
             [
              0.1111111111111111,
              "#46039f"
             ],
             [
              0.2222222222222222,
              "#7201a8"
             ],
             [
              0.3333333333333333,
              "#9c179e"
             ],
             [
              0.4444444444444444,
              "#bd3786"
             ],
             [
              0.5555555555555556,
              "#d8576b"
             ],
             [
              0.6666666666666666,
              "#ed7953"
             ],
             [
              0.7777777777777778,
              "#fb9f3a"
             ],
             [
              0.8888888888888888,
              "#fdca26"
             ],
             [
              1,
              "#f0f921"
             ]
            ],
            "type": "heatmapgl"
           }
          ],
          "histogram": [
           {
            "marker": {
             "pattern": {
              "fillmode": "overlay",
              "size": 10,
              "solidity": 0.2
             }
            },
            "type": "histogram"
           }
          ],
          "histogram2d": [
           {
            "colorbar": {
             "outlinewidth": 0,
             "ticks": ""
            },
            "colorscale": [
             [
              0,
              "#0d0887"
             ],
             [
              0.1111111111111111,
              "#46039f"
             ],
             [
              0.2222222222222222,
              "#7201a8"
             ],
             [
              0.3333333333333333,
              "#9c179e"
             ],
             [
              0.4444444444444444,
              "#bd3786"
             ],
             [
              0.5555555555555556,
              "#d8576b"
             ],
             [
              0.6666666666666666,
              "#ed7953"
             ],
             [
              0.7777777777777778,
              "#fb9f3a"
             ],
             [
              0.8888888888888888,
              "#fdca26"
             ],
             [
              1,
              "#f0f921"
             ]
            ],
            "type": "histogram2d"
           }
          ],
          "histogram2dcontour": [
           {
            "colorbar": {
             "outlinewidth": 0,
             "ticks": ""
            },
            "colorscale": [
             [
              0,
              "#0d0887"
             ],
             [
              0.1111111111111111,
              "#46039f"
             ],
             [
              0.2222222222222222,
              "#7201a8"
             ],
             [
              0.3333333333333333,
              "#9c179e"
             ],
             [
              0.4444444444444444,
              "#bd3786"
             ],
             [
              0.5555555555555556,
              "#d8576b"
             ],
             [
              0.6666666666666666,
              "#ed7953"
             ],
             [
              0.7777777777777778,
              "#fb9f3a"
             ],
             [
              0.8888888888888888,
              "#fdca26"
             ],
             [
              1,
              "#f0f921"
             ]
            ],
            "type": "histogram2dcontour"
           }
          ],
          "mesh3d": [
           {
            "colorbar": {
             "outlinewidth": 0,
             "ticks": ""
            },
            "type": "mesh3d"
           }
          ],
          "parcoords": [
           {
            "line": {
             "colorbar": {
              "outlinewidth": 0,
              "ticks": ""
             }
            },
            "type": "parcoords"
           }
          ],
          "pie": [
           {
            "automargin": true,
            "type": "pie"
           }
          ],
          "scatter": [
           {
            "fillpattern": {
             "fillmode": "overlay",
             "size": 10,
             "solidity": 0.2
            },
            "type": "scatter"
           }
          ],
          "scatter3d": [
           {
            "line": {
             "colorbar": {
              "outlinewidth": 0,
              "ticks": ""
             }
            },
            "marker": {
             "colorbar": {
              "outlinewidth": 0,
              "ticks": ""
             }
            },
            "type": "scatter3d"
           }
          ],
          "scattercarpet": [
           {
            "marker": {
             "colorbar": {
              "outlinewidth": 0,
              "ticks": ""
             }
            },
            "type": "scattercarpet"
           }
          ],
          "scattergeo": [
           {
            "marker": {
             "colorbar": {
              "outlinewidth": 0,
              "ticks": ""
             }
            },
            "type": "scattergeo"
           }
          ],
          "scattergl": [
           {
            "marker": {
             "colorbar": {
              "outlinewidth": 0,
              "ticks": ""
             }
            },
            "type": "scattergl"
           }
          ],
          "scattermapbox": [
           {
            "marker": {
             "colorbar": {
              "outlinewidth": 0,
              "ticks": ""
             }
            },
            "type": "scattermapbox"
           }
          ],
          "scatterpolar": [
           {
            "marker": {
             "colorbar": {
              "outlinewidth": 0,
              "ticks": ""
             }
            },
            "type": "scatterpolar"
           }
          ],
          "scatterpolargl": [
           {
            "marker": {
             "colorbar": {
              "outlinewidth": 0,
              "ticks": ""
             }
            },
            "type": "scatterpolargl"
           }
          ],
          "scatterternary": [
           {
            "marker": {
             "colorbar": {
              "outlinewidth": 0,
              "ticks": ""
             }
            },
            "type": "scatterternary"
           }
          ],
          "surface": [
           {
            "colorbar": {
             "outlinewidth": 0,
             "ticks": ""
            },
            "colorscale": [
             [
              0,
              "#0d0887"
             ],
             [
              0.1111111111111111,
              "#46039f"
             ],
             [
              0.2222222222222222,
              "#7201a8"
             ],
             [
              0.3333333333333333,
              "#9c179e"
             ],
             [
              0.4444444444444444,
              "#bd3786"
             ],
             [
              0.5555555555555556,
              "#d8576b"
             ],
             [
              0.6666666666666666,
              "#ed7953"
             ],
             [
              0.7777777777777778,
              "#fb9f3a"
             ],
             [
              0.8888888888888888,
              "#fdca26"
             ],
             [
              1,
              "#f0f921"
             ]
            ],
            "type": "surface"
           }
          ],
          "table": [
           {
            "cells": {
             "fill": {
              "color": "#EBF0F8"
             },
             "line": {
              "color": "white"
             }
            },
            "header": {
             "fill": {
              "color": "#C8D4E3"
             },
             "line": {
              "color": "white"
             }
            },
            "type": "table"
           }
          ]
         },
         "layout": {
          "annotationdefaults": {
           "arrowcolor": "#2a3f5f",
           "arrowhead": 0,
           "arrowwidth": 1
          },
          "autotypenumbers": "strict",
          "coloraxis": {
           "colorbar": {
            "outlinewidth": 0,
            "ticks": ""
           }
          },
          "colorscale": {
           "diverging": [
            [
             0,
             "#8e0152"
            ],
            [
             0.1,
             "#c51b7d"
            ],
            [
             0.2,
             "#de77ae"
            ],
            [
             0.3,
             "#f1b6da"
            ],
            [
             0.4,
             "#fde0ef"
            ],
            [
             0.5,
             "#f7f7f7"
            ],
            [
             0.6,
             "#e6f5d0"
            ],
            [
             0.7,
             "#b8e186"
            ],
            [
             0.8,
             "#7fbc41"
            ],
            [
             0.9,
             "#4d9221"
            ],
            [
             1,
             "#276419"
            ]
           ],
           "sequential": [
            [
             0,
             "#0d0887"
            ],
            [
             0.1111111111111111,
             "#46039f"
            ],
            [
             0.2222222222222222,
             "#7201a8"
            ],
            [
             0.3333333333333333,
             "#9c179e"
            ],
            [
             0.4444444444444444,
             "#bd3786"
            ],
            [
             0.5555555555555556,
             "#d8576b"
            ],
            [
             0.6666666666666666,
             "#ed7953"
            ],
            [
             0.7777777777777778,
             "#fb9f3a"
            ],
            [
             0.8888888888888888,
             "#fdca26"
            ],
            [
             1,
             "#f0f921"
            ]
           ],
           "sequentialminus": [
            [
             0,
             "#0d0887"
            ],
            [
             0.1111111111111111,
             "#46039f"
            ],
            [
             0.2222222222222222,
             "#7201a8"
            ],
            [
             0.3333333333333333,
             "#9c179e"
            ],
            [
             0.4444444444444444,
             "#bd3786"
            ],
            [
             0.5555555555555556,
             "#d8576b"
            ],
            [
             0.6666666666666666,
             "#ed7953"
            ],
            [
             0.7777777777777778,
             "#fb9f3a"
            ],
            [
             0.8888888888888888,
             "#fdca26"
            ],
            [
             1,
             "#f0f921"
            ]
           ]
          },
          "colorway": [
           "#636efa",
           "#EF553B",
           "#00cc96",
           "#ab63fa",
           "#FFA15A",
           "#19d3f3",
           "#FF6692",
           "#B6E880",
           "#FF97FF",
           "#FECB52"
          ],
          "font": {
           "color": "#2a3f5f"
          },
          "geo": {
           "bgcolor": "white",
           "lakecolor": "white",
           "landcolor": "#E5ECF6",
           "showlakes": true,
           "showland": true,
           "subunitcolor": "white"
          },
          "hoverlabel": {
           "align": "left"
          },
          "hovermode": "closest",
          "mapbox": {
           "style": "light"
          },
          "paper_bgcolor": "white",
          "plot_bgcolor": "#E5ECF6",
          "polar": {
           "angularaxis": {
            "gridcolor": "white",
            "linecolor": "white",
            "ticks": ""
           },
           "bgcolor": "#E5ECF6",
           "radialaxis": {
            "gridcolor": "white",
            "linecolor": "white",
            "ticks": ""
           }
          },
          "scene": {
           "xaxis": {
            "backgroundcolor": "#E5ECF6",
            "gridcolor": "white",
            "gridwidth": 2,
            "linecolor": "white",
            "showbackground": true,
            "ticks": "",
            "zerolinecolor": "white"
           },
           "yaxis": {
            "backgroundcolor": "#E5ECF6",
            "gridcolor": "white",
            "gridwidth": 2,
            "linecolor": "white",
            "showbackground": true,
            "ticks": "",
            "zerolinecolor": "white"
           },
           "zaxis": {
            "backgroundcolor": "#E5ECF6",
            "gridcolor": "white",
            "gridwidth": 2,
            "linecolor": "white",
            "showbackground": true,
            "ticks": "",
            "zerolinecolor": "white"
           }
          },
          "shapedefaults": {
           "line": {
            "color": "#2a3f5f"
           }
          },
          "ternary": {
           "aaxis": {
            "gridcolor": "white",
            "linecolor": "white",
            "ticks": ""
           },
           "baxis": {
            "gridcolor": "white",
            "linecolor": "white",
            "ticks": ""
           },
           "bgcolor": "#E5ECF6",
           "caxis": {
            "gridcolor": "white",
            "linecolor": "white",
            "ticks": ""
           }
          },
          "title": {
           "x": 0.05
          },
          "xaxis": {
           "automargin": true,
           "gridcolor": "white",
           "linecolor": "white",
           "ticks": "",
           "title": {
            "standoff": 15
           },
           "zerolinecolor": "white",
           "zerolinewidth": 2
          },
          "yaxis": {
           "automargin": true,
           "gridcolor": "white",
           "linecolor": "white",
           "ticks": "",
           "title": {
            "standoff": 15
           },
           "zerolinecolor": "white",
           "zerolinewidth": 2
          }
         }
        },
        "title": {
         "text": "Different of types of waste wrongly thrown into the <b style=\"color:#451AFF;\">Recycling</b> bin for <b>Learning Commons</b> building"
        },
        "xaxis": {
         "anchor": "y",
         "domain": [
          0,
          1
         ],
         "title": {
          "text": "Weight (in pounds)"
         }
        },
        "yaxis": {
         "anchor": "x",
         "domain": [
          0,
          1
         ],
         "title": {
          "text": "Waste Type"
         }
        }
       }
      }
     },
     "metadata": {},
     "output_type": "display_data"
    },
    {
     "data": {
      "application/vnd.plotly.v1+json": {
       "config": {
        "plotlyServerURL": "https://plot.ly"
       },
       "data": [
        {
         "marker": {
          "color": [
           "#7AE288",
           "#7AE288",
           "#7AE288",
           "#7AE288",
           "#7AE288",
           "#4A62FF",
           "#4A62FF",
           "#4A62FF",
           "#4A62FF",
           "#4A62FF",
           "#4A62FF",
           "#4A62FF",
           "#4A62FF"
          ]
         },
         "orientation": "h",
         "type": "bar",
         "x": [
          3.2,
          3.1,
          6.4,
          3.5,
          4.9,
          0.5,
          0.8,
          0.5,
          0.1,
          0.2,
          3.1,
          4.800000000000001,
          0.8
         ],
         "y": [
          [
           "Compost",
           "Compost",
           "Compost",
           "Compost",
           "Compost",
           "Recycling",
           "Recycling",
           "Recycling",
           "Recycling",
           "Recycling",
           "Recycling",
           "Recycling",
           "Recycling"
          ],
          [
           "Compostable dining waste (non-edible)",
           "Compostable food containers",
           "Food/organic waste",
           "Paper towels",
           "Scu coffee cups",
           "Aseptic containers",
           "Cardboard",
           "Electronic & universal waste",
           "Glass",
           "Metal",
           "Paper",
           "Plastic 1-7",
           "Terracycle"
          ]
         ]
        }
       ],
       "layout": {
        "template": {
         "data": {
          "bar": [
           {
            "error_x": {
             "color": "#2a3f5f"
            },
            "error_y": {
             "color": "#2a3f5f"
            },
            "marker": {
             "line": {
              "color": "#E5ECF6",
              "width": 0.5
             },
             "pattern": {
              "fillmode": "overlay",
              "size": 10,
              "solidity": 0.2
             }
            },
            "type": "bar"
           }
          ],
          "barpolar": [
           {
            "marker": {
             "line": {
              "color": "#E5ECF6",
              "width": 0.5
             },
             "pattern": {
              "fillmode": "overlay",
              "size": 10,
              "solidity": 0.2
             }
            },
            "type": "barpolar"
           }
          ],
          "carpet": [
           {
            "aaxis": {
             "endlinecolor": "#2a3f5f",
             "gridcolor": "white",
             "linecolor": "white",
             "minorgridcolor": "white",
             "startlinecolor": "#2a3f5f"
            },
            "baxis": {
             "endlinecolor": "#2a3f5f",
             "gridcolor": "white",
             "linecolor": "white",
             "minorgridcolor": "white",
             "startlinecolor": "#2a3f5f"
            },
            "type": "carpet"
           }
          ],
          "choropleth": [
           {
            "colorbar": {
             "outlinewidth": 0,
             "ticks": ""
            },
            "type": "choropleth"
           }
          ],
          "contour": [
           {
            "colorbar": {
             "outlinewidth": 0,
             "ticks": ""
            },
            "colorscale": [
             [
              0,
              "#0d0887"
             ],
             [
              0.1111111111111111,
              "#46039f"
             ],
             [
              0.2222222222222222,
              "#7201a8"
             ],
             [
              0.3333333333333333,
              "#9c179e"
             ],
             [
              0.4444444444444444,
              "#bd3786"
             ],
             [
              0.5555555555555556,
              "#d8576b"
             ],
             [
              0.6666666666666666,
              "#ed7953"
             ],
             [
              0.7777777777777778,
              "#fb9f3a"
             ],
             [
              0.8888888888888888,
              "#fdca26"
             ],
             [
              1,
              "#f0f921"
             ]
            ],
            "type": "contour"
           }
          ],
          "contourcarpet": [
           {
            "colorbar": {
             "outlinewidth": 0,
             "ticks": ""
            },
            "type": "contourcarpet"
           }
          ],
          "heatmap": [
           {
            "colorbar": {
             "outlinewidth": 0,
             "ticks": ""
            },
            "colorscale": [
             [
              0,
              "#0d0887"
             ],
             [
              0.1111111111111111,
              "#46039f"
             ],
             [
              0.2222222222222222,
              "#7201a8"
             ],
             [
              0.3333333333333333,
              "#9c179e"
             ],
             [
              0.4444444444444444,
              "#bd3786"
             ],
             [
              0.5555555555555556,
              "#d8576b"
             ],
             [
              0.6666666666666666,
              "#ed7953"
             ],
             [
              0.7777777777777778,
              "#fb9f3a"
             ],
             [
              0.8888888888888888,
              "#fdca26"
             ],
             [
              1,
              "#f0f921"
             ]
            ],
            "type": "heatmap"
           }
          ],
          "heatmapgl": [
           {
            "colorbar": {
             "outlinewidth": 0,
             "ticks": ""
            },
            "colorscale": [
             [
              0,
              "#0d0887"
             ],
             [
              0.1111111111111111,
              "#46039f"
             ],
             [
              0.2222222222222222,
              "#7201a8"
             ],
             [
              0.3333333333333333,
              "#9c179e"
             ],
             [
              0.4444444444444444,
              "#bd3786"
             ],
             [
              0.5555555555555556,
              "#d8576b"
             ],
             [
              0.6666666666666666,
              "#ed7953"
             ],
             [
              0.7777777777777778,
              "#fb9f3a"
             ],
             [
              0.8888888888888888,
              "#fdca26"
             ],
             [
              1,
              "#f0f921"
             ]
            ],
            "type": "heatmapgl"
           }
          ],
          "histogram": [
           {
            "marker": {
             "pattern": {
              "fillmode": "overlay",
              "size": 10,
              "solidity": 0.2
             }
            },
            "type": "histogram"
           }
          ],
          "histogram2d": [
           {
            "colorbar": {
             "outlinewidth": 0,
             "ticks": ""
            },
            "colorscale": [
             [
              0,
              "#0d0887"
             ],
             [
              0.1111111111111111,
              "#46039f"
             ],
             [
              0.2222222222222222,
              "#7201a8"
             ],
             [
              0.3333333333333333,
              "#9c179e"
             ],
             [
              0.4444444444444444,
              "#bd3786"
             ],
             [
              0.5555555555555556,
              "#d8576b"
             ],
             [
              0.6666666666666666,
              "#ed7953"
             ],
             [
              0.7777777777777778,
              "#fb9f3a"
             ],
             [
              0.8888888888888888,
              "#fdca26"
             ],
             [
              1,
              "#f0f921"
             ]
            ],
            "type": "histogram2d"
           }
          ],
          "histogram2dcontour": [
           {
            "colorbar": {
             "outlinewidth": 0,
             "ticks": ""
            },
            "colorscale": [
             [
              0,
              "#0d0887"
             ],
             [
              0.1111111111111111,
              "#46039f"
             ],
             [
              0.2222222222222222,
              "#7201a8"
             ],
             [
              0.3333333333333333,
              "#9c179e"
             ],
             [
              0.4444444444444444,
              "#bd3786"
             ],
             [
              0.5555555555555556,
              "#d8576b"
             ],
             [
              0.6666666666666666,
              "#ed7953"
             ],
             [
              0.7777777777777778,
              "#fb9f3a"
             ],
             [
              0.8888888888888888,
              "#fdca26"
             ],
             [
              1,
              "#f0f921"
             ]
            ],
            "type": "histogram2dcontour"
           }
          ],
          "mesh3d": [
           {
            "colorbar": {
             "outlinewidth": 0,
             "ticks": ""
            },
            "type": "mesh3d"
           }
          ],
          "parcoords": [
           {
            "line": {
             "colorbar": {
              "outlinewidth": 0,
              "ticks": ""
             }
            },
            "type": "parcoords"
           }
          ],
          "pie": [
           {
            "automargin": true,
            "type": "pie"
           }
          ],
          "scatter": [
           {
            "fillpattern": {
             "fillmode": "overlay",
             "size": 10,
             "solidity": 0.2
            },
            "type": "scatter"
           }
          ],
          "scatter3d": [
           {
            "line": {
             "colorbar": {
              "outlinewidth": 0,
              "ticks": ""
             }
            },
            "marker": {
             "colorbar": {
              "outlinewidth": 0,
              "ticks": ""
             }
            },
            "type": "scatter3d"
           }
          ],
          "scattercarpet": [
           {
            "marker": {
             "colorbar": {
              "outlinewidth": 0,
              "ticks": ""
             }
            },
            "type": "scattercarpet"
           }
          ],
          "scattergeo": [
           {
            "marker": {
             "colorbar": {
              "outlinewidth": 0,
              "ticks": ""
             }
            },
            "type": "scattergeo"
           }
          ],
          "scattergl": [
           {
            "marker": {
             "colorbar": {
              "outlinewidth": 0,
              "ticks": ""
             }
            },
            "type": "scattergl"
           }
          ],
          "scattermapbox": [
           {
            "marker": {
             "colorbar": {
              "outlinewidth": 0,
              "ticks": ""
             }
            },
            "type": "scattermapbox"
           }
          ],
          "scatterpolar": [
           {
            "marker": {
             "colorbar": {
              "outlinewidth": 0,
              "ticks": ""
             }
            },
            "type": "scatterpolar"
           }
          ],
          "scatterpolargl": [
           {
            "marker": {
             "colorbar": {
              "outlinewidth": 0,
              "ticks": ""
             }
            },
            "type": "scatterpolargl"
           }
          ],
          "scatterternary": [
           {
            "marker": {
             "colorbar": {
              "outlinewidth": 0,
              "ticks": ""
             }
            },
            "type": "scatterternary"
           }
          ],
          "surface": [
           {
            "colorbar": {
             "outlinewidth": 0,
             "ticks": ""
            },
            "colorscale": [
             [
              0,
              "#0d0887"
             ],
             [
              0.1111111111111111,
              "#46039f"
             ],
             [
              0.2222222222222222,
              "#7201a8"
             ],
             [
              0.3333333333333333,
              "#9c179e"
             ],
             [
              0.4444444444444444,
              "#bd3786"
             ],
             [
              0.5555555555555556,
              "#d8576b"
             ],
             [
              0.6666666666666666,
              "#ed7953"
             ],
             [
              0.7777777777777778,
              "#fb9f3a"
             ],
             [
              0.8888888888888888,
              "#fdca26"
             ],
             [
              1,
              "#f0f921"
             ]
            ],
            "type": "surface"
           }
          ],
          "table": [
           {
            "cells": {
             "fill": {
              "color": "#EBF0F8"
             },
             "line": {
              "color": "white"
             }
            },
            "header": {
             "fill": {
              "color": "#C8D4E3"
             },
             "line": {
              "color": "white"
             }
            },
            "type": "table"
           }
          ]
         },
         "layout": {
          "annotationdefaults": {
           "arrowcolor": "#2a3f5f",
           "arrowhead": 0,
           "arrowwidth": 1
          },
          "autotypenumbers": "strict",
          "coloraxis": {
           "colorbar": {
            "outlinewidth": 0,
            "ticks": ""
           }
          },
          "colorscale": {
           "diverging": [
            [
             0,
             "#8e0152"
            ],
            [
             0.1,
             "#c51b7d"
            ],
            [
             0.2,
             "#de77ae"
            ],
            [
             0.3,
             "#f1b6da"
            ],
            [
             0.4,
             "#fde0ef"
            ],
            [
             0.5,
             "#f7f7f7"
            ],
            [
             0.6,
             "#e6f5d0"
            ],
            [
             0.7,
             "#b8e186"
            ],
            [
             0.8,
             "#7fbc41"
            ],
            [
             0.9,
             "#4d9221"
            ],
            [
             1,
             "#276419"
            ]
           ],
           "sequential": [
            [
             0,
             "#0d0887"
            ],
            [
             0.1111111111111111,
             "#46039f"
            ],
            [
             0.2222222222222222,
             "#7201a8"
            ],
            [
             0.3333333333333333,
             "#9c179e"
            ],
            [
             0.4444444444444444,
             "#bd3786"
            ],
            [
             0.5555555555555556,
             "#d8576b"
            ],
            [
             0.6666666666666666,
             "#ed7953"
            ],
            [
             0.7777777777777778,
             "#fb9f3a"
            ],
            [
             0.8888888888888888,
             "#fdca26"
            ],
            [
             1,
             "#f0f921"
            ]
           ],
           "sequentialminus": [
            [
             0,
             "#0d0887"
            ],
            [
             0.1111111111111111,
             "#46039f"
            ],
            [
             0.2222222222222222,
             "#7201a8"
            ],
            [
             0.3333333333333333,
             "#9c179e"
            ],
            [
             0.4444444444444444,
             "#bd3786"
            ],
            [
             0.5555555555555556,
             "#d8576b"
            ],
            [
             0.6666666666666666,
             "#ed7953"
            ],
            [
             0.7777777777777778,
             "#fb9f3a"
            ],
            [
             0.8888888888888888,
             "#fdca26"
            ],
            [
             1,
             "#f0f921"
            ]
           ]
          },
          "colorway": [
           "#636efa",
           "#EF553B",
           "#00cc96",
           "#ab63fa",
           "#FFA15A",
           "#19d3f3",
           "#FF6692",
           "#B6E880",
           "#FF97FF",
           "#FECB52"
          ],
          "font": {
           "color": "#2a3f5f"
          },
          "geo": {
           "bgcolor": "white",
           "lakecolor": "white",
           "landcolor": "#E5ECF6",
           "showlakes": true,
           "showland": true,
           "subunitcolor": "white"
          },
          "hoverlabel": {
           "align": "left"
          },
          "hovermode": "closest",
          "mapbox": {
           "style": "light"
          },
          "paper_bgcolor": "white",
          "plot_bgcolor": "#E5ECF6",
          "polar": {
           "angularaxis": {
            "gridcolor": "white",
            "linecolor": "white",
            "ticks": ""
           },
           "bgcolor": "#E5ECF6",
           "radialaxis": {
            "gridcolor": "white",
            "linecolor": "white",
            "ticks": ""
           }
          },
          "scene": {
           "xaxis": {
            "backgroundcolor": "#E5ECF6",
            "gridcolor": "white",
            "gridwidth": 2,
            "linecolor": "white",
            "showbackground": true,
            "ticks": "",
            "zerolinecolor": "white"
           },
           "yaxis": {
            "backgroundcolor": "#E5ECF6",
            "gridcolor": "white",
            "gridwidth": 2,
            "linecolor": "white",
            "showbackground": true,
            "ticks": "",
            "zerolinecolor": "white"
           },
           "zaxis": {
            "backgroundcolor": "#E5ECF6",
            "gridcolor": "white",
            "gridwidth": 2,
            "linecolor": "white",
            "showbackground": true,
            "ticks": "",
            "zerolinecolor": "white"
           }
          },
          "shapedefaults": {
           "line": {
            "color": "#2a3f5f"
           }
          },
          "ternary": {
           "aaxis": {
            "gridcolor": "white",
            "linecolor": "white",
            "ticks": ""
           },
           "baxis": {
            "gridcolor": "white",
            "linecolor": "white",
            "ticks": ""
           },
           "bgcolor": "#E5ECF6",
           "caxis": {
            "gridcolor": "white",
            "linecolor": "white",
            "ticks": ""
           }
          },
          "title": {
           "x": 0.05
          },
          "xaxis": {
           "automargin": true,
           "gridcolor": "white",
           "linecolor": "white",
           "ticks": "",
           "title": {
            "standoff": 15
           },
           "zerolinecolor": "white",
           "zerolinewidth": 2
          },
          "yaxis": {
           "automargin": true,
           "gridcolor": "white",
           "linecolor": "white",
           "ticks": "",
           "title": {
            "standoff": 15
           },
           "zerolinecolor": "white",
           "zerolinewidth": 2
          }
         }
        },
        "title": {
         "text": "Different of types of waste wrongly thrown into the <b style=\"color:#828282;\">Landfill</b> bin for <b>Learning Commons</b> building"
        },
        "xaxis": {
         "anchor": "y",
         "domain": [
          0,
          1
         ],
         "title": {
          "text": "Weight (in pounds)"
         }
        },
        "yaxis": {
         "anchor": "x",
         "domain": [
          0,
          1
         ],
         "title": {
          "text": "Waste Type"
         }
        }
       }
      }
     },
     "metadata": {},
     "output_type": "display_data"
    },
    {
     "data": {
      "application/vnd.plotly.v1+json": {
       "config": {
        "plotlyServerURL": "https://plot.ly"
       },
       "data": [
        {
         "marker": {
          "color": []
         },
         "orientation": "h",
         "type": "bar",
         "x": [],
         "y": [
          [],
          []
         ]
        }
       ],
       "layout": {
        "template": {
         "data": {
          "bar": [
           {
            "error_x": {
             "color": "#2a3f5f"
            },
            "error_y": {
             "color": "#2a3f5f"
            },
            "marker": {
             "line": {
              "color": "#E5ECF6",
              "width": 0.5
             },
             "pattern": {
              "fillmode": "overlay",
              "size": 10,
              "solidity": 0.2
             }
            },
            "type": "bar"
           }
          ],
          "barpolar": [
           {
            "marker": {
             "line": {
              "color": "#E5ECF6",
              "width": 0.5
             },
             "pattern": {
              "fillmode": "overlay",
              "size": 10,
              "solidity": 0.2
             }
            },
            "type": "barpolar"
           }
          ],
          "carpet": [
           {
            "aaxis": {
             "endlinecolor": "#2a3f5f",
             "gridcolor": "white",
             "linecolor": "white",
             "minorgridcolor": "white",
             "startlinecolor": "#2a3f5f"
            },
            "baxis": {
             "endlinecolor": "#2a3f5f",
             "gridcolor": "white",
             "linecolor": "white",
             "minorgridcolor": "white",
             "startlinecolor": "#2a3f5f"
            },
            "type": "carpet"
           }
          ],
          "choropleth": [
           {
            "colorbar": {
             "outlinewidth": 0,
             "ticks": ""
            },
            "type": "choropleth"
           }
          ],
          "contour": [
           {
            "colorbar": {
             "outlinewidth": 0,
             "ticks": ""
            },
            "colorscale": [
             [
              0,
              "#0d0887"
             ],
             [
              0.1111111111111111,
              "#46039f"
             ],
             [
              0.2222222222222222,
              "#7201a8"
             ],
             [
              0.3333333333333333,
              "#9c179e"
             ],
             [
              0.4444444444444444,
              "#bd3786"
             ],
             [
              0.5555555555555556,
              "#d8576b"
             ],
             [
              0.6666666666666666,
              "#ed7953"
             ],
             [
              0.7777777777777778,
              "#fb9f3a"
             ],
             [
              0.8888888888888888,
              "#fdca26"
             ],
             [
              1,
              "#f0f921"
             ]
            ],
            "type": "contour"
           }
          ],
          "contourcarpet": [
           {
            "colorbar": {
             "outlinewidth": 0,
             "ticks": ""
            },
            "type": "contourcarpet"
           }
          ],
          "heatmap": [
           {
            "colorbar": {
             "outlinewidth": 0,
             "ticks": ""
            },
            "colorscale": [
             [
              0,
              "#0d0887"
             ],
             [
              0.1111111111111111,
              "#46039f"
             ],
             [
              0.2222222222222222,
              "#7201a8"
             ],
             [
              0.3333333333333333,
              "#9c179e"
             ],
             [
              0.4444444444444444,
              "#bd3786"
             ],
             [
              0.5555555555555556,
              "#d8576b"
             ],
             [
              0.6666666666666666,
              "#ed7953"
             ],
             [
              0.7777777777777778,
              "#fb9f3a"
             ],
             [
              0.8888888888888888,
              "#fdca26"
             ],
             [
              1,
              "#f0f921"
             ]
            ],
            "type": "heatmap"
           }
          ],
          "heatmapgl": [
           {
            "colorbar": {
             "outlinewidth": 0,
             "ticks": ""
            },
            "colorscale": [
             [
              0,
              "#0d0887"
             ],
             [
              0.1111111111111111,
              "#46039f"
             ],
             [
              0.2222222222222222,
              "#7201a8"
             ],
             [
              0.3333333333333333,
              "#9c179e"
             ],
             [
              0.4444444444444444,
              "#bd3786"
             ],
             [
              0.5555555555555556,
              "#d8576b"
             ],
             [
              0.6666666666666666,
              "#ed7953"
             ],
             [
              0.7777777777777778,
              "#fb9f3a"
             ],
             [
              0.8888888888888888,
              "#fdca26"
             ],
             [
              1,
              "#f0f921"
             ]
            ],
            "type": "heatmapgl"
           }
          ],
          "histogram": [
           {
            "marker": {
             "pattern": {
              "fillmode": "overlay",
              "size": 10,
              "solidity": 0.2
             }
            },
            "type": "histogram"
           }
          ],
          "histogram2d": [
           {
            "colorbar": {
             "outlinewidth": 0,
             "ticks": ""
            },
            "colorscale": [
             [
              0,
              "#0d0887"
             ],
             [
              0.1111111111111111,
              "#46039f"
             ],
             [
              0.2222222222222222,
              "#7201a8"
             ],
             [
              0.3333333333333333,
              "#9c179e"
             ],
             [
              0.4444444444444444,
              "#bd3786"
             ],
             [
              0.5555555555555556,
              "#d8576b"
             ],
             [
              0.6666666666666666,
              "#ed7953"
             ],
             [
              0.7777777777777778,
              "#fb9f3a"
             ],
             [
              0.8888888888888888,
              "#fdca26"
             ],
             [
              1,
              "#f0f921"
             ]
            ],
            "type": "histogram2d"
           }
          ],
          "histogram2dcontour": [
           {
            "colorbar": {
             "outlinewidth": 0,
             "ticks": ""
            },
            "colorscale": [
             [
              0,
              "#0d0887"
             ],
             [
              0.1111111111111111,
              "#46039f"
             ],
             [
              0.2222222222222222,
              "#7201a8"
             ],
             [
              0.3333333333333333,
              "#9c179e"
             ],
             [
              0.4444444444444444,
              "#bd3786"
             ],
             [
              0.5555555555555556,
              "#d8576b"
             ],
             [
              0.6666666666666666,
              "#ed7953"
             ],
             [
              0.7777777777777778,
              "#fb9f3a"
             ],
             [
              0.8888888888888888,
              "#fdca26"
             ],
             [
              1,
              "#f0f921"
             ]
            ],
            "type": "histogram2dcontour"
           }
          ],
          "mesh3d": [
           {
            "colorbar": {
             "outlinewidth": 0,
             "ticks": ""
            },
            "type": "mesh3d"
           }
          ],
          "parcoords": [
           {
            "line": {
             "colorbar": {
              "outlinewidth": 0,
              "ticks": ""
             }
            },
            "type": "parcoords"
           }
          ],
          "pie": [
           {
            "automargin": true,
            "type": "pie"
           }
          ],
          "scatter": [
           {
            "fillpattern": {
             "fillmode": "overlay",
             "size": 10,
             "solidity": 0.2
            },
            "type": "scatter"
           }
          ],
          "scatter3d": [
           {
            "line": {
             "colorbar": {
              "outlinewidth": 0,
              "ticks": ""
             }
            },
            "marker": {
             "colorbar": {
              "outlinewidth": 0,
              "ticks": ""
             }
            },
            "type": "scatter3d"
           }
          ],
          "scattercarpet": [
           {
            "marker": {
             "colorbar": {
              "outlinewidth": 0,
              "ticks": ""
             }
            },
            "type": "scattercarpet"
           }
          ],
          "scattergeo": [
           {
            "marker": {
             "colorbar": {
              "outlinewidth": 0,
              "ticks": ""
             }
            },
            "type": "scattergeo"
           }
          ],
          "scattergl": [
           {
            "marker": {
             "colorbar": {
              "outlinewidth": 0,
              "ticks": ""
             }
            },
            "type": "scattergl"
           }
          ],
          "scattermapbox": [
           {
            "marker": {
             "colorbar": {
              "outlinewidth": 0,
              "ticks": ""
             }
            },
            "type": "scattermapbox"
           }
          ],
          "scatterpolar": [
           {
            "marker": {
             "colorbar": {
              "outlinewidth": 0,
              "ticks": ""
             }
            },
            "type": "scatterpolar"
           }
          ],
          "scatterpolargl": [
           {
            "marker": {
             "colorbar": {
              "outlinewidth": 0,
              "ticks": ""
             }
            },
            "type": "scatterpolargl"
           }
          ],
          "scatterternary": [
           {
            "marker": {
             "colorbar": {
              "outlinewidth": 0,
              "ticks": ""
             }
            },
            "type": "scatterternary"
           }
          ],
          "surface": [
           {
            "colorbar": {
             "outlinewidth": 0,
             "ticks": ""
            },
            "colorscale": [
             [
              0,
              "#0d0887"
             ],
             [
              0.1111111111111111,
              "#46039f"
             ],
             [
              0.2222222222222222,
              "#7201a8"
             ],
             [
              0.3333333333333333,
              "#9c179e"
             ],
             [
              0.4444444444444444,
              "#bd3786"
             ],
             [
              0.5555555555555556,
              "#d8576b"
             ],
             [
              0.6666666666666666,
              "#ed7953"
             ],
             [
              0.7777777777777778,
              "#fb9f3a"
             ],
             [
              0.8888888888888888,
              "#fdca26"
             ],
             [
              1,
              "#f0f921"
             ]
            ],
            "type": "surface"
           }
          ],
          "table": [
           {
            "cells": {
             "fill": {
              "color": "#EBF0F8"
             },
             "line": {
              "color": "white"
             }
            },
            "header": {
             "fill": {
              "color": "#C8D4E3"
             },
             "line": {
              "color": "white"
             }
            },
            "type": "table"
           }
          ]
         },
         "layout": {
          "annotationdefaults": {
           "arrowcolor": "#2a3f5f",
           "arrowhead": 0,
           "arrowwidth": 1
          },
          "autotypenumbers": "strict",
          "coloraxis": {
           "colorbar": {
            "outlinewidth": 0,
            "ticks": ""
           }
          },
          "colorscale": {
           "diverging": [
            [
             0,
             "#8e0152"
            ],
            [
             0.1,
             "#c51b7d"
            ],
            [
             0.2,
             "#de77ae"
            ],
            [
             0.3,
             "#f1b6da"
            ],
            [
             0.4,
             "#fde0ef"
            ],
            [
             0.5,
             "#f7f7f7"
            ],
            [
             0.6,
             "#e6f5d0"
            ],
            [
             0.7,
             "#b8e186"
            ],
            [
             0.8,
             "#7fbc41"
            ],
            [
             0.9,
             "#4d9221"
            ],
            [
             1,
             "#276419"
            ]
           ],
           "sequential": [
            [
             0,
             "#0d0887"
            ],
            [
             0.1111111111111111,
             "#46039f"
            ],
            [
             0.2222222222222222,
             "#7201a8"
            ],
            [
             0.3333333333333333,
             "#9c179e"
            ],
            [
             0.4444444444444444,
             "#bd3786"
            ],
            [
             0.5555555555555556,
             "#d8576b"
            ],
            [
             0.6666666666666666,
             "#ed7953"
            ],
            [
             0.7777777777777778,
             "#fb9f3a"
            ],
            [
             0.8888888888888888,
             "#fdca26"
            ],
            [
             1,
             "#f0f921"
            ]
           ],
           "sequentialminus": [
            [
             0,
             "#0d0887"
            ],
            [
             0.1111111111111111,
             "#46039f"
            ],
            [
             0.2222222222222222,
             "#7201a8"
            ],
            [
             0.3333333333333333,
             "#9c179e"
            ],
            [
             0.4444444444444444,
             "#bd3786"
            ],
            [
             0.5555555555555556,
             "#d8576b"
            ],
            [
             0.6666666666666666,
             "#ed7953"
            ],
            [
             0.7777777777777778,
             "#fb9f3a"
            ],
            [
             0.8888888888888888,
             "#fdca26"
            ],
            [
             1,
             "#f0f921"
            ]
           ]
          },
          "colorway": [
           "#636efa",
           "#EF553B",
           "#00cc96",
           "#ab63fa",
           "#FFA15A",
           "#19d3f3",
           "#FF6692",
           "#B6E880",
           "#FF97FF",
           "#FECB52"
          ],
          "font": {
           "color": "#2a3f5f"
          },
          "geo": {
           "bgcolor": "white",
           "lakecolor": "white",
           "landcolor": "#E5ECF6",
           "showlakes": true,
           "showland": true,
           "subunitcolor": "white"
          },
          "hoverlabel": {
           "align": "left"
          },
          "hovermode": "closest",
          "mapbox": {
           "style": "light"
          },
          "paper_bgcolor": "white",
          "plot_bgcolor": "#E5ECF6",
          "polar": {
           "angularaxis": {
            "gridcolor": "white",
            "linecolor": "white",
            "ticks": ""
           },
           "bgcolor": "#E5ECF6",
           "radialaxis": {
            "gridcolor": "white",
            "linecolor": "white",
            "ticks": ""
           }
          },
          "scene": {
           "xaxis": {
            "backgroundcolor": "#E5ECF6",
            "gridcolor": "white",
            "gridwidth": 2,
            "linecolor": "white",
            "showbackground": true,
            "ticks": "",
            "zerolinecolor": "white"
           },
           "yaxis": {
            "backgroundcolor": "#E5ECF6",
            "gridcolor": "white",
            "gridwidth": 2,
            "linecolor": "white",
            "showbackground": true,
            "ticks": "",
            "zerolinecolor": "white"
           },
           "zaxis": {
            "backgroundcolor": "#E5ECF6",
            "gridcolor": "white",
            "gridwidth": 2,
            "linecolor": "white",
            "showbackground": true,
            "ticks": "",
            "zerolinecolor": "white"
           }
          },
          "shapedefaults": {
           "line": {
            "color": "#2a3f5f"
           }
          },
          "ternary": {
           "aaxis": {
            "gridcolor": "white",
            "linecolor": "white",
            "ticks": ""
           },
           "baxis": {
            "gridcolor": "white",
            "linecolor": "white",
            "ticks": ""
           },
           "bgcolor": "#E5ECF6",
           "caxis": {
            "gridcolor": "white",
            "linecolor": "white",
            "ticks": ""
           }
          },
          "title": {
           "x": 0.05
          },
          "xaxis": {
           "automargin": true,
           "gridcolor": "white",
           "linecolor": "white",
           "ticks": "",
           "title": {
            "standoff": 15
           },
           "zerolinecolor": "white",
           "zerolinewidth": 2
          },
          "yaxis": {
           "automargin": true,
           "gridcolor": "white",
           "linecolor": "white",
           "ticks": "",
           "title": {
            "standoff": 15
           },
           "zerolinecolor": "white",
           "zerolinewidth": 2
          }
         }
        },
        "title": {
         "text": "Different of types of waste wrongly thrown into the <b style=\"color:#00B600;\">Compost</b> bin for <b>Learning Commons</b> building"
        },
        "xaxis": {
         "anchor": "y",
         "domain": [
          0,
          1
         ],
         "title": {
          "text": "Weight (in pounds)"
         }
        },
        "yaxis": {
         "anchor": "x",
         "domain": [
          0,
          1
         ],
         "title": {
          "text": "Waste Type"
         }
        }
       }
      }
     },
     "metadata": {},
     "output_type": "display_data"
    }
   ],
   "source": [
    "def get_wrong_waste_agg_df(bin_name: str, building_name: str = None):\n",
    "    if not building_name:\n",
    "        group_df = df.loc[df[WASTE_TYPE]!=df[DISPOSED_IN], :].groupby([DISPOSED_IN,WASTE_TYPE, SUBSTREAM]).agg({WEIGHT: 'sum'})[WEIGHT].reset_index()\n",
    "    else:\n",
    "        group_df = df.loc[(df[WASTE_TYPE]!=df[DISPOSED_IN]) & (df[BUILDING]==building_name), :].groupby([DISPOSED_IN,WASTE_TYPE, SUBSTREAM]).agg({WEIGHT: 'sum'})[WEIGHT].reset_index()\n",
    "    group_df\n",
    "    wtdf = group_df.loc[group_df[DISPOSED_IN]==bin_name] # waste type df\n",
    "    return wtdf\n",
    "\n",
    "\n",
    "def plot_waste_division(bin_name: str, building_name: str = None):\n",
    "    wtdf = get_wrong_waste_agg_df(bin_name, building_name)\n",
    "    per_bin_max_elements=5\n",
    "\n",
    "    # ------ optional code to select only top n rows within each group -------\n",
    "    # idx2keep = []\n",
    "    # for wt in wtdf[WASTE_TYPE].unique():\n",
    "    #     idx2keep.extend(wtdf.loc[wtdf[WASTE_TYPE]==wt, :].sort_values(WEIGHT, ascending=False)[:per_bin_max_elements].index.tolist())\n",
    "\n",
    "    # wtdf = wtdf.loc[idx2keep, :]\n",
    "    # ----------------------------------------------------------------------\n",
    "\n",
    "    fig = make_subplots(rows=1, cols=1)\n",
    "\n",
    "    fig.add_trace(\n",
    "        go.Bar(\n",
    "            y=[wtdf[WASTE_TYPE].tolist(), wtdf[SUBSTREAM].tolist()],\n",
    "            x=wtdf[WEIGHT],\n",
    "            orientation='h',\n",
    "            marker={'color': [clr_map_mld[clr] for clr in wtdf[WASTE_TYPE].tolist()]},\n",
    "        )\n",
    "    )\n",
    "\n",
    "    title = f'Different of types of waste wrongly thrown into the <b style=\"color:{clr_map_bld[bin_name]};\">{bin_name}</b> bin '\n",
    "    title+= f'for <b>{building_name}</b> building' if building_name else ''\n",
    "    fig.update_xaxes(title_text='Weight (in pounds)')\n",
    "    fig.update_yaxes(title_text='Waste Type')\n",
    "    fig.update_layout(title=title)\n",
    "\n",
    "    return fig\n",
    "\n",
    "bldn = ['Facilities', 'Swig', 'Vari Hall and Lucas Hall', 'Malley',\n",
    "       'University Villas', 'Graham', 'Benson Center', 'Learning Commons']\n",
    "\n",
    "\n",
    "bd = bldn[7]\n",
    "fig = plot_waste_division('Recycling', bd)#, 'Facilities')\n",
    "fig.show()\n",
    "\n",
    "fig = plot_waste_division('Landfill', bd)#, 'Facilities')\n",
    "fig.show()\n",
    "\n",
    "fig = plot_waste_division('Compost', bd)#, 'Facilities')\n",
    "fig.show()"
   ]
  },
  {
   "cell_type": "code",
   "execution_count": 22,
   "metadata": {},
   "outputs": [
    {
     "data": {
      "text/plain": [
       "array(['Landfill'], dtype=object)"
      ]
     },
     "execution_count": 22,
     "metadata": {},
     "output_type": "execute_result"
    }
   ],
   "source": [
    "df.loc[df[BUILDING]==bd, DISPOSED_IN].unique()"
   ]
  },
  {
   "cell_type": "code",
   "execution_count": null,
   "metadata": {},
   "outputs": [],
   "source": []
  }
 ],
 "metadata": {
  "kernelspec": {
   "display_name": ".venv",
   "language": "python",
   "name": "python3"
  },
  "language_info": {
   "codemirror_mode": {
    "name": "ipython",
    "version": 3
   },
   "file_extension": ".py",
   "mimetype": "text/x-python",
   "name": "python",
   "nbconvert_exporter": "python",
   "pygments_lexer": "ipython3",
   "version": "3.9.6"
  },
  "orig_nbformat": 4
 },
 "nbformat": 4,
 "nbformat_minor": 2
}
